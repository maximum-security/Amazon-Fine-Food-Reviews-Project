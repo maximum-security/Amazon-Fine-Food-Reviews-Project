{
 "cells": [
  {
   "cell_type": "markdown",
   "id": "a579b359-1364-4ee4-8783-1a536c848a0d",
   "metadata": {},
   "source": [
    "# Amazon Fine Food Reviews\n"
   ]
  },
  {
   "cell_type": "markdown",
   "id": "49da54bd-741c-4053-964f-0125158538bf",
   "metadata": {},
   "source": [
    "##### Meks Egbuchunam\n",
    "\n",
    "Dataset: [Amazon Fine Foods Reviews](https://www.kaggle.com/datasets/snap/amazon-fine-food-reviews)\n",
    "\n",
    "In this project, I will analyze the Amazon Fine Food Reviews dataset to explore how various features and patterns are associated with positive or negative sentiment in customer reviews. I will also evaluate how the dataset’s metadata compares to the substantive text of the reviews in contributing to overall prediction accuracy. Natural Language Processing (NLP) and machine learning techniques will be applied to gain actionable insights into customer behavior and feedback that could support future marketing and product enhancement."
   ]
  },
  {
   "cell_type": "markdown",
   "id": "7ffc34b4-c08d-4fb9-b32c-9f7e501811c8",
   "metadata": {},
   "source": [
    "## Data Collection"
   ]
  },
  {
   "cell_type": "code",
   "execution_count": 1,
   "id": "50674f28-a555-4632-a8b1-79046ba45668",
   "metadata": {},
   "outputs": [
    {
     "data": {
      "text/html": [
       "<div>\n",
       "<style scoped>\n",
       "    .dataframe tbody tr th:only-of-type {\n",
       "        vertical-align: middle;\n",
       "    }\n",
       "\n",
       "    .dataframe tbody tr th {\n",
       "        vertical-align: top;\n",
       "    }\n",
       "\n",
       "    .dataframe thead th {\n",
       "        text-align: right;\n",
       "    }\n",
       "</style>\n",
       "<table border=\"1\" class=\"dataframe\">\n",
       "  <thead>\n",
       "    <tr style=\"text-align: right;\">\n",
       "      <th></th>\n",
       "      <th>Id</th>\n",
       "      <th>ProductId</th>\n",
       "      <th>UserId</th>\n",
       "      <th>ProfileName</th>\n",
       "      <th>HelpfulnessNumerator</th>\n",
       "      <th>HelpfulnessDenominator</th>\n",
       "      <th>Score</th>\n",
       "      <th>Time</th>\n",
       "      <th>Summary</th>\n",
       "      <th>Text</th>\n",
       "    </tr>\n",
       "  </thead>\n",
       "  <tbody>\n",
       "    <tr>\n",
       "      <th>0</th>\n",
       "      <td>1</td>\n",
       "      <td>B001E4KFG0</td>\n",
       "      <td>A3SGXH7AUHU8GW</td>\n",
       "      <td>delmartian</td>\n",
       "      <td>1</td>\n",
       "      <td>1</td>\n",
       "      <td>5</td>\n",
       "      <td>1303862400</td>\n",
       "      <td>Good Quality Dog Food</td>\n",
       "      <td>I have bought several of the Vitality canned d...</td>\n",
       "    </tr>\n",
       "    <tr>\n",
       "      <th>1</th>\n",
       "      <td>2</td>\n",
       "      <td>B00813GRG4</td>\n",
       "      <td>A1D87F6ZCVE5NK</td>\n",
       "      <td>dll pa</td>\n",
       "      <td>0</td>\n",
       "      <td>0</td>\n",
       "      <td>1</td>\n",
       "      <td>1346976000</td>\n",
       "      <td>Not as Advertised</td>\n",
       "      <td>Product arrived labeled as Jumbo Salted Peanut...</td>\n",
       "    </tr>\n",
       "    <tr>\n",
       "      <th>2</th>\n",
       "      <td>3</td>\n",
       "      <td>B000LQOCH0</td>\n",
       "      <td>ABXLMWJIXXAIN</td>\n",
       "      <td>Natalia Corres \"Natalia Corres\"</td>\n",
       "      <td>1</td>\n",
       "      <td>1</td>\n",
       "      <td>4</td>\n",
       "      <td>1219017600</td>\n",
       "      <td>\"Delight\" says it all</td>\n",
       "      <td>This is a confection that has been around a fe...</td>\n",
       "    </tr>\n",
       "    <tr>\n",
       "      <th>3</th>\n",
       "      <td>4</td>\n",
       "      <td>B000UA0QIQ</td>\n",
       "      <td>A395BORC6FGVXV</td>\n",
       "      <td>Karl</td>\n",
       "      <td>3</td>\n",
       "      <td>3</td>\n",
       "      <td>2</td>\n",
       "      <td>1307923200</td>\n",
       "      <td>Cough Medicine</td>\n",
       "      <td>If you are looking for the secret ingredient i...</td>\n",
       "    </tr>\n",
       "    <tr>\n",
       "      <th>4</th>\n",
       "      <td>5</td>\n",
       "      <td>B006K2ZZ7K</td>\n",
       "      <td>A1UQRSCLF8GW1T</td>\n",
       "      <td>Michael D. Bigham \"M. Wassir\"</td>\n",
       "      <td>0</td>\n",
       "      <td>0</td>\n",
       "      <td>5</td>\n",
       "      <td>1350777600</td>\n",
       "      <td>Great taffy</td>\n",
       "      <td>Great taffy at a great price.  There was a wid...</td>\n",
       "    </tr>\n",
       "  </tbody>\n",
       "</table>\n",
       "</div>"
      ],
      "text/plain": [
       "   Id   ProductId          UserId                      ProfileName  \\\n",
       "0   1  B001E4KFG0  A3SGXH7AUHU8GW                       delmartian   \n",
       "1   2  B00813GRG4  A1D87F6ZCVE5NK                           dll pa   \n",
       "2   3  B000LQOCH0   ABXLMWJIXXAIN  Natalia Corres \"Natalia Corres\"   \n",
       "3   4  B000UA0QIQ  A395BORC6FGVXV                             Karl   \n",
       "4   5  B006K2ZZ7K  A1UQRSCLF8GW1T    Michael D. Bigham \"M. Wassir\"   \n",
       "\n",
       "   HelpfulnessNumerator  HelpfulnessDenominator  Score        Time  \\\n",
       "0                     1                       1      5  1303862400   \n",
       "1                     0                       0      1  1346976000   \n",
       "2                     1                       1      4  1219017600   \n",
       "3                     3                       3      2  1307923200   \n",
       "4                     0                       0      5  1350777600   \n",
       "\n",
       "                 Summary                                               Text  \n",
       "0  Good Quality Dog Food  I have bought several of the Vitality canned d...  \n",
       "1      Not as Advertised  Product arrived labeled as Jumbo Salted Peanut...  \n",
       "2  \"Delight\" says it all  This is a confection that has been around a fe...  \n",
       "3         Cough Medicine  If you are looking for the secret ingredient i...  \n",
       "4            Great taffy  Great taffy at a great price.  There was a wid...  "
      ]
     },
     "execution_count": 1,
     "metadata": {},
     "output_type": "execute_result"
    }
   ],
   "source": [
    "import numpy as np\n",
    "import pandas as pd\n",
    "import matplotlib.pyplot as plt\n",
    "import seaborn as sns\n",
    "import plotly.express as px\n",
    "\n",
    "df = pd.read_csv(\"D:/DS Projects/Amazon Food Reviews/Reviews.csv\")\n",
    "\n",
    "clone_df = df.copy()\n",
    "\n",
    "clone_df.head()"
   ]
  },
  {
   "cell_type": "markdown",
   "id": "0827dbbd-c286-473d-af2d-a77a2a778653",
   "metadata": {},
   "source": [
    "----------------------------------"
   ]
  },
  {
   "cell_type": "markdown",
   "id": "0891f4d3-8a4d-4fb5-9ad4-ca157a2a7e72",
   "metadata": {},
   "source": [
    "## Data Cleaning/Preprocessing"
   ]
  },
  {
   "cell_type": "code",
   "execution_count": 2,
   "id": "f474f99a-5eeb-433f-bab6-f1902206b702",
   "metadata": {},
   "outputs": [
    {
     "data": {
      "text/plain": [
       "(568454, 10)"
      ]
     },
     "execution_count": 2,
     "metadata": {},
     "output_type": "execute_result"
    }
   ],
   "source": [
    "df.shape"
   ]
  },
  {
   "cell_type": "code",
   "execution_count": 3,
   "id": "a0ebecf9-abbd-4beb-9785-62e08a5c71b6",
   "metadata": {},
   "outputs": [
    {
     "name": "stdout",
     "output_type": "stream",
     "text": [
      "'ProductId': 74258\n",
      "'UserId': 256059\n",
      "'ProfileName': 218415\n"
     ]
    }
   ],
   "source": [
    "print(f\"'ProductId': {clone_df['ProductId'].nunique()}\")\n",
    "print(f\"'UserId': {clone_df['UserId'].nunique()}\")\n",
    "print(f\"'ProfileName': {clone_df['ProfileName'].nunique()}\")"
   ]
  },
  {
   "cell_type": "code",
   "execution_count": 4,
   "id": "bf287b60-8a30-4c93-a35d-0667a84acd1d",
   "metadata": {},
   "outputs": [
    {
     "data": {
      "text/plain": [
       "UserId\n",
       "1     208309\n",
       "2       5721\n",
       "3       1662\n",
       "4        755\n",
       "5        397\n",
       "6        277\n",
       "7        191\n",
       "8        157\n",
       "9        109\n",
       "10       102\n",
       "Name: count, dtype: int64"
      ]
     },
     "execution_count": 4,
     "metadata": {},
     "output_type": "execute_result"
    }
   ],
   "source": [
    "df.groupby('ProfileName')['UserId'].nunique().value_counts().head(10)"
   ]
  },
  {
   "cell_type": "code",
   "execution_count": 5,
   "id": "8bb171b9-4e98-41ca-bbf4-fcb58a991a2a",
   "metadata": {},
   "outputs": [
    {
     "data": {
      "text/plain": [
       "Id                         int64\n",
       "ProductId                 object\n",
       "UserId                    object\n",
       "ProfileName               object\n",
       "HelpfulnessNumerator       int64\n",
       "HelpfulnessDenominator     int64\n",
       "Score                      int64\n",
       "Time                       int64\n",
       "Summary                   object\n",
       "Text                      object\n",
       "dtype: object"
      ]
     },
     "execution_count": 5,
     "metadata": {},
     "output_type": "execute_result"
    }
   ],
   "source": [
    "clone_df.dtypes"
   ]
  },
  {
   "cell_type": "markdown",
   "id": "11827e7a-6518-4c25-8b34-80c1c89f87eb",
   "metadata": {},
   "source": [
    "It is immediately clear that the `Id` column can be dropped."
   ]
  },
  {
   "cell_type": "code",
   "execution_count": 6,
   "id": "25c10089-5597-4265-aad2-f3df86859ba0",
   "metadata": {},
   "outputs": [
    {
     "data": {
      "text/html": [
       "<div>\n",
       "<style scoped>\n",
       "    .dataframe tbody tr th:only-of-type {\n",
       "        vertical-align: middle;\n",
       "    }\n",
       "\n",
       "    .dataframe tbody tr th {\n",
       "        vertical-align: top;\n",
       "    }\n",
       "\n",
       "    .dataframe thead th {\n",
       "        text-align: right;\n",
       "    }\n",
       "</style>\n",
       "<table border=\"1\" class=\"dataframe\">\n",
       "  <thead>\n",
       "    <tr style=\"text-align: right;\">\n",
       "      <th></th>\n",
       "      <th>ProductId</th>\n",
       "      <th>UserId</th>\n",
       "      <th>ProfileName</th>\n",
       "      <th>HelpfulnessNumerator</th>\n",
       "      <th>HelpfulnessDenominator</th>\n",
       "      <th>Score</th>\n",
       "      <th>Time</th>\n",
       "      <th>Summary</th>\n",
       "      <th>Text</th>\n",
       "    </tr>\n",
       "  </thead>\n",
       "  <tbody>\n",
       "    <tr>\n",
       "      <th>0</th>\n",
       "      <td>B001E4KFG0</td>\n",
       "      <td>A3SGXH7AUHU8GW</td>\n",
       "      <td>delmartian</td>\n",
       "      <td>1</td>\n",
       "      <td>1</td>\n",
       "      <td>5</td>\n",
       "      <td>1303862400</td>\n",
       "      <td>Good Quality Dog Food</td>\n",
       "      <td>I have bought several of the Vitality canned d...</td>\n",
       "    </tr>\n",
       "    <tr>\n",
       "      <th>1</th>\n",
       "      <td>B00813GRG4</td>\n",
       "      <td>A1D87F6ZCVE5NK</td>\n",
       "      <td>dll pa</td>\n",
       "      <td>0</td>\n",
       "      <td>0</td>\n",
       "      <td>1</td>\n",
       "      <td>1346976000</td>\n",
       "      <td>Not as Advertised</td>\n",
       "      <td>Product arrived labeled as Jumbo Salted Peanut...</td>\n",
       "    </tr>\n",
       "    <tr>\n",
       "      <th>2</th>\n",
       "      <td>B000LQOCH0</td>\n",
       "      <td>ABXLMWJIXXAIN</td>\n",
       "      <td>Natalia Corres \"Natalia Corres\"</td>\n",
       "      <td>1</td>\n",
       "      <td>1</td>\n",
       "      <td>4</td>\n",
       "      <td>1219017600</td>\n",
       "      <td>\"Delight\" says it all</td>\n",
       "      <td>This is a confection that has been around a fe...</td>\n",
       "    </tr>\n",
       "    <tr>\n",
       "      <th>3</th>\n",
       "      <td>B000UA0QIQ</td>\n",
       "      <td>A395BORC6FGVXV</td>\n",
       "      <td>Karl</td>\n",
       "      <td>3</td>\n",
       "      <td>3</td>\n",
       "      <td>2</td>\n",
       "      <td>1307923200</td>\n",
       "      <td>Cough Medicine</td>\n",
       "      <td>If you are looking for the secret ingredient i...</td>\n",
       "    </tr>\n",
       "    <tr>\n",
       "      <th>4</th>\n",
       "      <td>B006K2ZZ7K</td>\n",
       "      <td>A1UQRSCLF8GW1T</td>\n",
       "      <td>Michael D. Bigham \"M. Wassir\"</td>\n",
       "      <td>0</td>\n",
       "      <td>0</td>\n",
       "      <td>5</td>\n",
       "      <td>1350777600</td>\n",
       "      <td>Great taffy</td>\n",
       "      <td>Great taffy at a great price.  There was a wid...</td>\n",
       "    </tr>\n",
       "  </tbody>\n",
       "</table>\n",
       "</div>"
      ],
      "text/plain": [
       "    ProductId          UserId                      ProfileName  \\\n",
       "0  B001E4KFG0  A3SGXH7AUHU8GW                       delmartian   \n",
       "1  B00813GRG4  A1D87F6ZCVE5NK                           dll pa   \n",
       "2  B000LQOCH0   ABXLMWJIXXAIN  Natalia Corres \"Natalia Corres\"   \n",
       "3  B000UA0QIQ  A395BORC6FGVXV                             Karl   \n",
       "4  B006K2ZZ7K  A1UQRSCLF8GW1T    Michael D. Bigham \"M. Wassir\"   \n",
       "\n",
       "   HelpfulnessNumerator  HelpfulnessDenominator  Score        Time  \\\n",
       "0                     1                       1      5  1303862400   \n",
       "1                     0                       0      1  1346976000   \n",
       "2                     1                       1      4  1219017600   \n",
       "3                     3                       3      2  1307923200   \n",
       "4                     0                       0      5  1350777600   \n",
       "\n",
       "                 Summary                                               Text  \n",
       "0  Good Quality Dog Food  I have bought several of the Vitality canned d...  \n",
       "1      Not as Advertised  Product arrived labeled as Jumbo Salted Peanut...  \n",
       "2  \"Delight\" says it all  This is a confection that has been around a fe...  \n",
       "3         Cough Medicine  If you are looking for the secret ingredient i...  \n",
       "4            Great taffy  Great taffy at a great price.  There was a wid...  "
      ]
     },
     "execution_count": 6,
     "metadata": {},
     "output_type": "execute_result"
    }
   ],
   "source": [
    "clone_df.drop(['Id'], axis = 1, inplace = True)\n",
    "\n",
    "clone_df.head()"
   ]
  },
  {
   "cell_type": "code",
   "execution_count": 7,
   "id": "31048800-7001-4eb8-a1d1-db3c84239de8",
   "metadata": {},
   "outputs": [
    {
     "data": {
      "text/plain": [
       "ProductId                  0\n",
       "UserId                     0\n",
       "ProfileName               26\n",
       "HelpfulnessNumerator       0\n",
       "HelpfulnessDenominator     0\n",
       "Score                      0\n",
       "Time                       0\n",
       "Summary                   27\n",
       "Text                       0\n",
       "dtype: int64"
      ]
     },
     "execution_count": 7,
     "metadata": {},
     "output_type": "execute_result"
    }
   ],
   "source": [
    "#Finding missing values\n",
    "\n",
    "clone_df.isnull().sum()\n"
   ]
  },
  {
   "cell_type": "markdown",
   "id": "ae050b02-68ff-453b-aba5-cb89c3564b74",
   "metadata": {},
   "source": [
    "Because the `Summary` column contains free-form text, it makes more sense to drop rows with missing values rather than fill them with non-representative data. Since there are only 27 missing rows, the resulting data loss is negligible.\n",
    "\n",
    "The `ProfileName` column is less relevant to the analysis, so we can fill its 26 missing values with `Unknown` instead of dropping 26 additional rows."
   ]
  },
  {
   "cell_type": "code",
   "execution_count": 10,
   "id": "2f6a103a-223d-42cc-9d16-05caf6817e25",
   "metadata": {},
   "outputs": [
    {
     "data": {
      "text/plain": [
       "(568427, 9)"
      ]
     },
     "execution_count": 10,
     "metadata": {},
     "output_type": "execute_result"
    }
   ],
   "source": [
    "clone_df.dropna(subset = ['Summary'], inplace = True)\n",
    "\n",
    "clone_df.shape"
   ]
  },
  {
   "cell_type": "code",
   "execution_count": 8,
   "id": "aa682170-8516-43fa-9a01-69f0e594a84d",
   "metadata": {},
   "outputs": [],
   "source": [
    "clone_df['ProfileName'].fillna('Unknown', inplace=True)"
   ]
  },
  {
   "cell_type": "code",
   "execution_count": 11,
   "id": "ec01b42c-08db-459a-8814-6e6268770fbe",
   "metadata": {},
   "outputs": [
    {
     "data": {
      "text/plain": [
       "ProductId                 0\n",
       "UserId                    0\n",
       "ProfileName               0\n",
       "HelpfulnessNumerator      0\n",
       "HelpfulnessDenominator    0\n",
       "Score                     0\n",
       "Time                      0\n",
       "Summary                   0\n",
       "Text                      0\n",
       "dtype: int64"
      ]
     },
     "execution_count": 11,
     "metadata": {},
     "output_type": "execute_result"
    }
   ],
   "source": [
    "clone_df.isnull().sum()"
   ]
  },
  {
   "cell_type": "code",
   "execution_count": 12,
   "id": "e2387e0d-4afc-4cfa-819c-586b32bd65f3",
   "metadata": {},
   "outputs": [
    {
     "data": {
      "text/plain": [
       "281"
      ]
     },
     "execution_count": 12,
     "metadata": {},
     "output_type": "execute_result"
    }
   ],
   "source": [
    "clone_df.duplicated().sum()"
   ]
  },
  {
   "cell_type": "markdown",
   "id": "25e6d363-da91-4c3c-9ef3-3012163fcf72",
   "metadata": {},
   "source": [
    "Some rows seem to be duplicated. These rows should be dropped."
   ]
  },
  {
   "cell_type": "code",
   "execution_count": 13,
   "id": "d80351d6-d5a8-428b-b341-3435175d256d",
   "metadata": {},
   "outputs": [
    {
     "data": {
      "text/html": [
       "<div>\n",
       "<style scoped>\n",
       "    .dataframe tbody tr th:only-of-type {\n",
       "        vertical-align: middle;\n",
       "    }\n",
       "\n",
       "    .dataframe tbody tr th {\n",
       "        vertical-align: top;\n",
       "    }\n",
       "\n",
       "    .dataframe thead th {\n",
       "        text-align: right;\n",
       "    }\n",
       "</style>\n",
       "<table border=\"1\" class=\"dataframe\">\n",
       "  <thead>\n",
       "    <tr style=\"text-align: right;\">\n",
       "      <th></th>\n",
       "      <th>ProductId</th>\n",
       "      <th>UserId</th>\n",
       "      <th>ProfileName</th>\n",
       "      <th>HelpfulnessNumerator</th>\n",
       "      <th>HelpfulnessDenominator</th>\n",
       "      <th>Score</th>\n",
       "      <th>Time</th>\n",
       "      <th>Summary</th>\n",
       "      <th>Text</th>\n",
       "    </tr>\n",
       "  </thead>\n",
       "  <tbody>\n",
       "    <tr>\n",
       "      <th>6517</th>\n",
       "      <td>B005O8BLLU</td>\n",
       "      <td>APH7I7OZ8WUJP</td>\n",
       "      <td>J. Simpson</td>\n",
       "      <td>0</td>\n",
       "      <td>0</td>\n",
       "      <td>5</td>\n",
       "      <td>1347494400</td>\n",
       "      <td>Great first food</td>\n",
       "      <td>This is excellent for a baby's first taste. Th...</td>\n",
       "    </tr>\n",
       "    <tr>\n",
       "      <th>8523</th>\n",
       "      <td>B003VXFK44</td>\n",
       "      <td>A10H24TDLK2VDP</td>\n",
       "      <td>William Jens Jensen</td>\n",
       "      <td>0</td>\n",
       "      <td>0</td>\n",
       "      <td>3</td>\n",
       "      <td>1309824000</td>\n",
       "      <td>Unremarkable</td>\n",
       "      <td>First, let me say that I prefer extra-bold K-C...</td>\n",
       "    </tr>\n",
       "    <tr>\n",
       "      <th>9232</th>\n",
       "      <td>B006N3IG4K</td>\n",
       "      <td>A10H24TDLK2VDP</td>\n",
       "      <td>William Jens Jensen</td>\n",
       "      <td>0</td>\n",
       "      <td>0</td>\n",
       "      <td>3</td>\n",
       "      <td>1309824000</td>\n",
       "      <td>Unremarkable</td>\n",
       "      <td>First, let me say that I prefer extra-bold K-C...</td>\n",
       "    </tr>\n",
       "    <tr>\n",
       "      <th>15528</th>\n",
       "      <td>B000255OIG</td>\n",
       "      <td>AJD41FBJD9010</td>\n",
       "      <td>N. Ferguson \"Two, Daisy, Hannah, and Kitten\"</td>\n",
       "      <td>0</td>\n",
       "      <td>0</td>\n",
       "      <td>5</td>\n",
       "      <td>1233360000</td>\n",
       "      <td>best dog treat-- great for training---  all do...</td>\n",
       "      <td>Freeze dried liver has a hypnotic effect on do...</td>\n",
       "    </tr>\n",
       "    <tr>\n",
       "      <th>19705</th>\n",
       "      <td>B0030VBRIU</td>\n",
       "      <td>A2MF0C4E7GYCI</td>\n",
       "      <td>VW \"VW\"</td>\n",
       "      <td>0</td>\n",
       "      <td>0</td>\n",
       "      <td>5</td>\n",
       "      <td>1305331200</td>\n",
       "      <td>My son loves this</td>\n",
       "      <td>My son loves this food.  He is 16 months now a...</td>\n",
       "    </tr>\n",
       "    <tr>\n",
       "      <th>...</th>\n",
       "      <td>...</td>\n",
       "      <td>...</td>\n",
       "      <td>...</td>\n",
       "      <td>...</td>\n",
       "      <td>...</td>\n",
       "      <td>...</td>\n",
       "      <td>...</td>\n",
       "      <td>...</td>\n",
       "      <td>...</td>\n",
       "    </tr>\n",
       "    <tr>\n",
       "      <th>539218</th>\n",
       "      <td>B001BDDT8K</td>\n",
       "      <td>A3FKGKUCI3DG9U</td>\n",
       "      <td>Paul Moskowitz</td>\n",
       "      <td>0</td>\n",
       "      <td>0</td>\n",
       "      <td>3</td>\n",
       "      <td>1229472000</td>\n",
       "      <td>If it looks good, is it good for the cats?</td>\n",
       "      <td>My two traditional striped cats eat mostly dry...</td>\n",
       "    </tr>\n",
       "    <tr>\n",
       "      <th>539359</th>\n",
       "      <td>B001BDDT8K</td>\n",
       "      <td>AF3BYMPWKWO8F</td>\n",
       "      <td>Joe MacBu</td>\n",
       "      <td>3</td>\n",
       "      <td>3</td>\n",
       "      <td>1</td>\n",
       "      <td>1243555200</td>\n",
       "      <td>Warning: Contains Menadione</td>\n",
       "      <td>According to the manufacturer's website, this ...</td>\n",
       "    </tr>\n",
       "    <tr>\n",
       "      <th>541565</th>\n",
       "      <td>B00014JYNO</td>\n",
       "      <td>AM820RV0VN0U</td>\n",
       "      <td>windie809</td>\n",
       "      <td>0</td>\n",
       "      <td>0</td>\n",
       "      <td>5</td>\n",
       "      <td>1339459200</td>\n",
       "      <td>love these protein bars!</td>\n",
       "      <td>if you are looking for a protein bar that does...</td>\n",
       "    </tr>\n",
       "    <tr>\n",
       "      <th>546112</th>\n",
       "      <td>B003YSV5ZY</td>\n",
       "      <td>A2GSNN6EH9K2HD</td>\n",
       "      <td>A. Meyer</td>\n",
       "      <td>0</td>\n",
       "      <td>0</td>\n",
       "      <td>5</td>\n",
       "      <td>1301875200</td>\n",
       "      <td>Very Tasty</td>\n",
       "      <td>These cereal bars are fantastic. All of their ...</td>\n",
       "    </tr>\n",
       "    <tr>\n",
       "      <th>567958</th>\n",
       "      <td>B0030VJ8YU</td>\n",
       "      <td>A2MF0C4E7GYCI</td>\n",
       "      <td>VW \"VW\"</td>\n",
       "      <td>0</td>\n",
       "      <td>0</td>\n",
       "      <td>5</td>\n",
       "      <td>1305331200</td>\n",
       "      <td>My son loves this</td>\n",
       "      <td>My son loves this food.  He is 16 months now a...</td>\n",
       "    </tr>\n",
       "  </tbody>\n",
       "</table>\n",
       "<p>281 rows × 9 columns</p>\n",
       "</div>"
      ],
      "text/plain": [
       "         ProductId          UserId  \\\n",
       "6517    B005O8BLLU   APH7I7OZ8WUJP   \n",
       "8523    B003VXFK44  A10H24TDLK2VDP   \n",
       "9232    B006N3IG4K  A10H24TDLK2VDP   \n",
       "15528   B000255OIG   AJD41FBJD9010   \n",
       "19705   B0030VBRIU   A2MF0C4E7GYCI   \n",
       "...            ...             ...   \n",
       "539218  B001BDDT8K  A3FKGKUCI3DG9U   \n",
       "539359  B001BDDT8K   AF3BYMPWKWO8F   \n",
       "541565  B00014JYNO    AM820RV0VN0U   \n",
       "546112  B003YSV5ZY  A2GSNN6EH9K2HD   \n",
       "567958  B0030VJ8YU   A2MF0C4E7GYCI   \n",
       "\n",
       "                                         ProfileName  HelpfulnessNumerator  \\\n",
       "6517                                      J. Simpson                     0   \n",
       "8523                             William Jens Jensen                     0   \n",
       "9232                             William Jens Jensen                     0   \n",
       "15528   N. Ferguson \"Two, Daisy, Hannah, and Kitten\"                     0   \n",
       "19705                                        VW \"VW\"                     0   \n",
       "...                                              ...                   ...   \n",
       "539218                                Paul Moskowitz                     0   \n",
       "539359                                     Joe MacBu                     3   \n",
       "541565                                     windie809                     0   \n",
       "546112                                      A. Meyer                     0   \n",
       "567958                                       VW \"VW\"                     0   \n",
       "\n",
       "        HelpfulnessDenominator  Score        Time  \\\n",
       "6517                         0      5  1347494400   \n",
       "8523                         0      3  1309824000   \n",
       "9232                         0      3  1309824000   \n",
       "15528                        0      5  1233360000   \n",
       "19705                        0      5  1305331200   \n",
       "...                        ...    ...         ...   \n",
       "539218                       0      3  1229472000   \n",
       "539359                       3      1  1243555200   \n",
       "541565                       0      5  1339459200   \n",
       "546112                       0      5  1301875200   \n",
       "567958                       0      5  1305331200   \n",
       "\n",
       "                                                  Summary  \\\n",
       "6517                                     Great first food   \n",
       "8523                                         Unremarkable   \n",
       "9232                                         Unremarkable   \n",
       "15528   best dog treat-- great for training---  all do...   \n",
       "19705                                   My son loves this   \n",
       "...                                                   ...   \n",
       "539218         If it looks good, is it good for the cats?   \n",
       "539359                        Warning: Contains Menadione   \n",
       "541565                           love these protein bars!   \n",
       "546112                                         Very Tasty   \n",
       "567958                                  My son loves this   \n",
       "\n",
       "                                                     Text  \n",
       "6517    This is excellent for a baby's first taste. Th...  \n",
       "8523    First, let me say that I prefer extra-bold K-C...  \n",
       "9232    First, let me say that I prefer extra-bold K-C...  \n",
       "15528   Freeze dried liver has a hypnotic effect on do...  \n",
       "19705   My son loves this food.  He is 16 months now a...  \n",
       "...                                                   ...  \n",
       "539218  My two traditional striped cats eat mostly dry...  \n",
       "539359  According to the manufacturer's website, this ...  \n",
       "541565  if you are looking for a protein bar that does...  \n",
       "546112  These cereal bars are fantastic. All of their ...  \n",
       "567958  My son loves this food.  He is 16 months now a...  \n",
       "\n",
       "[281 rows x 9 columns]"
      ]
     },
     "execution_count": 13,
     "metadata": {},
     "output_type": "execute_result"
    }
   ],
   "source": [
    "# Checking the duplicates\n",
    "\n",
    "clone_df[clone_df.duplicated()]"
   ]
  },
  {
   "cell_type": "code",
   "execution_count": 14,
   "id": "1836f777-d5ae-4d08-943b-5ae6906bbfa4",
   "metadata": {},
   "outputs": [
    {
     "name": "stdout",
     "output_type": "stream",
     "text": [
      "55\n",
      "55\n"
     ]
    }
   ],
   "source": [
    "dupes = clone_df[clone_df.duplicated()]\n",
    "\n",
    "print(f\"{dupes['Text'].nunique()}\")\n",
    "\n",
    "print(f\"{dupes['Summary'].nunique()}\")"
   ]
  },
  {
   "cell_type": "code",
   "execution_count": 15,
   "id": "b65cc2a6-8708-41c8-9ee4-43b51e9ed346",
   "metadata": {},
   "outputs": [
    {
     "data": {
      "text/plain": [
       "(568146, 9)"
      ]
     },
     "execution_count": 15,
     "metadata": {},
     "output_type": "execute_result"
    }
   ],
   "source": [
    "# Dropping duplicates\n",
    "\n",
    "clone_df.drop_duplicates(inplace = True)\n",
    "\n",
    "clone_df.shape"
   ]
  },
  {
   "cell_type": "code",
   "execution_count": 16,
   "id": "56f07b1b-221d-4b0e-9539-ff7329d4032a",
   "metadata": {},
   "outputs": [
    {
     "data": {
      "text/plain": [
       "0"
      ]
     },
     "execution_count": 16,
     "metadata": {},
     "output_type": "execute_result"
    }
   ],
   "source": [
    "clone_df.duplicated().sum()"
   ]
  },
  {
   "cell_type": "code",
   "execution_count": 17,
   "id": "740fd534-436f-405d-a83a-34f1b654050a",
   "metadata": {},
   "outputs": [
    {
     "data": {
      "text/plain": [
       "0   2011-04-27\n",
       "1   2012-09-07\n",
       "2   2008-08-18\n",
       "3   2011-06-13\n",
       "4   2012-10-21\n",
       "5   2012-07-12\n",
       "6   2012-06-20\n",
       "7   2012-05-03\n",
       "8   2011-11-23\n",
       "9   2012-10-26\n",
       "Name: Time, dtype: datetime64[ns]"
      ]
     },
     "execution_count": 17,
     "metadata": {},
     "output_type": "execute_result"
    }
   ],
   "source": [
    "# Converting the time to be more readable\n",
    "\n",
    "clone_df['Time'] = pd.to_datetime(clone_df['Time'], unit = 's')\n",
    "\n",
    "clone_df['Time'].head(10)"
   ]
  },
  {
   "cell_type": "markdown",
   "id": "f1c489b7-e780-476d-bb6f-6345898d2cd7",
   "metadata": {},
   "source": [
    "--------------------"
   ]
  },
  {
   "cell_type": "markdown",
   "id": "24935738-3337-46e2-8b16-f83c9809d221",
   "metadata": {},
   "source": [
    "## EDA"
   ]
  },
  {
   "cell_type": "code",
   "execution_count": 18,
   "id": "3ee98714-b0a0-4083-91fc-7f29cd6535f7",
   "metadata": {},
   "outputs": [
    {
     "data": {
      "text/plain": [
       "(568146, 9)"
      ]
     },
     "execution_count": 18,
     "metadata": {},
     "output_type": "execute_result"
    }
   ],
   "source": [
    "clone_df.shape"
   ]
  },
  {
   "cell_type": "code",
   "execution_count": 19,
   "id": "0d74a16b-eba2-4f74-8a1f-57a82444bf2f",
   "metadata": {},
   "outputs": [
    {
     "data": {
      "text/plain": [
       "Index(['ProductId', 'UserId', 'ProfileName', 'HelpfulnessNumerator',\n",
       "       'HelpfulnessDenominator', 'Score', 'Time', 'Summary', 'Text'],\n",
       "      dtype='object')"
      ]
     },
     "execution_count": 19,
     "metadata": {},
     "output_type": "execute_result"
    }
   ],
   "source": [
    "clone_df.columns"
   ]
  },
  {
   "cell_type": "code",
   "execution_count": 20,
   "id": "f375cc46-17b0-4c45-83b4-3e82cbe0241c",
   "metadata": {},
   "outputs": [
    {
     "name": "stdout",
     "output_type": "stream",
     "text": [
      "<class 'pandas.core.frame.DataFrame'>\n",
      "Index: 568146 entries, 0 to 568453\n",
      "Data columns (total 9 columns):\n",
      " #   Column                  Non-Null Count   Dtype         \n",
      "---  ------                  --------------   -----         \n",
      " 0   ProductId               568146 non-null  object        \n",
      " 1   UserId                  568146 non-null  object        \n",
      " 2   ProfileName             568146 non-null  object        \n",
      " 3   HelpfulnessNumerator    568146 non-null  int64         \n",
      " 4   HelpfulnessDenominator  568146 non-null  int64         \n",
      " 5   Score                   568146 non-null  int64         \n",
      " 6   Time                    568146 non-null  datetime64[ns]\n",
      " 7   Summary                 568146 non-null  object        \n",
      " 8   Text                    568146 non-null  object        \n",
      "dtypes: datetime64[ns](1), int64(3), object(5)\n",
      "memory usage: 43.3+ MB\n"
     ]
    }
   ],
   "source": [
    "clone_df.info()"
   ]
  },
  {
   "cell_type": "code",
   "execution_count": 21,
   "id": "2252cd0b-0e68-41f9-9ef3-74f6e953bf21",
   "metadata": {},
   "outputs": [
    {
     "data": {
      "text/plain": [
       "ProductId                         object\n",
       "UserId                            object\n",
       "ProfileName                       object\n",
       "HelpfulnessNumerator               int64\n",
       "HelpfulnessDenominator             int64\n",
       "Score                              int64\n",
       "Time                      datetime64[ns]\n",
       "Summary                           object\n",
       "Text                              object\n",
       "dtype: object"
      ]
     },
     "execution_count": 21,
     "metadata": {},
     "output_type": "execute_result"
    }
   ],
   "source": [
    "clone_df.dtypes"
   ]
  },
  {
   "cell_type": "code",
   "execution_count": 22,
   "id": "d2cc0ff6-6af8-466c-bc0f-8c1ffe6fe433",
   "metadata": {},
   "outputs": [
    {
     "data": {
      "text/html": [
       "<div>\n",
       "<style scoped>\n",
       "    .dataframe tbody tr th:only-of-type {\n",
       "        vertical-align: middle;\n",
       "    }\n",
       "\n",
       "    .dataframe tbody tr th {\n",
       "        vertical-align: top;\n",
       "    }\n",
       "\n",
       "    .dataframe thead th {\n",
       "        text-align: right;\n",
       "    }\n",
       "</style>\n",
       "<table border=\"1\" class=\"dataframe\">\n",
       "  <thead>\n",
       "    <tr style=\"text-align: right;\">\n",
       "      <th></th>\n",
       "      <th>HelpfulnessNumerator</th>\n",
       "      <th>HelpfulnessDenominator</th>\n",
       "      <th>Score</th>\n",
       "      <th>Time</th>\n",
       "    </tr>\n",
       "  </thead>\n",
       "  <tbody>\n",
       "    <tr>\n",
       "      <th>count</th>\n",
       "      <td>568146.000000</td>\n",
       "      <td>568146.000000</td>\n",
       "      <td>568146.000000</td>\n",
       "      <td>568146</td>\n",
       "    </tr>\n",
       "    <tr>\n",
       "      <th>mean</th>\n",
       "      <td>1.744244</td>\n",
       "      <td>2.228288</td>\n",
       "      <td>4.183317</td>\n",
       "      <td>2011-01-29 01:41:24.464204800</td>\n",
       "    </tr>\n",
       "    <tr>\n",
       "      <th>min</th>\n",
       "      <td>0.000000</td>\n",
       "      <td>0.000000</td>\n",
       "      <td>1.000000</td>\n",
       "      <td>1999-10-08 00:00:00</td>\n",
       "    </tr>\n",
       "    <tr>\n",
       "      <th>25%</th>\n",
       "      <td>0.000000</td>\n",
       "      <td>0.000000</td>\n",
       "      <td>4.000000</td>\n",
       "      <td>2010-04-15 00:00:00</td>\n",
       "    </tr>\n",
       "    <tr>\n",
       "      <th>50%</th>\n",
       "      <td>0.000000</td>\n",
       "      <td>1.000000</td>\n",
       "      <td>5.000000</td>\n",
       "      <td>2011-07-20 00:00:00</td>\n",
       "    </tr>\n",
       "    <tr>\n",
       "      <th>75%</th>\n",
       "      <td>2.000000</td>\n",
       "      <td>2.000000</td>\n",
       "      <td>5.000000</td>\n",
       "      <td>2012-03-26 00:00:00</td>\n",
       "    </tr>\n",
       "    <tr>\n",
       "      <th>max</th>\n",
       "      <td>866.000000</td>\n",
       "      <td>923.000000</td>\n",
       "      <td>5.000000</td>\n",
       "      <td>2012-10-26 00:00:00</td>\n",
       "    </tr>\n",
       "    <tr>\n",
       "      <th>std</th>\n",
       "      <td>7.638330</td>\n",
       "      <td>8.290323</td>\n",
       "      <td>1.310336</td>\n",
       "      <td>NaN</td>\n",
       "    </tr>\n",
       "  </tbody>\n",
       "</table>\n",
       "</div>"
      ],
      "text/plain": [
       "       HelpfulnessNumerator  HelpfulnessDenominator          Score  \\\n",
       "count         568146.000000           568146.000000  568146.000000   \n",
       "mean               1.744244                2.228288       4.183317   \n",
       "min                0.000000                0.000000       1.000000   \n",
       "25%                0.000000                0.000000       4.000000   \n",
       "50%                0.000000                1.000000       5.000000   \n",
       "75%                2.000000                2.000000       5.000000   \n",
       "max              866.000000              923.000000       5.000000   \n",
       "std                7.638330                8.290323       1.310336   \n",
       "\n",
       "                                Time  \n",
       "count                         568146  \n",
       "mean   2011-01-29 01:41:24.464204800  \n",
       "min              1999-10-08 00:00:00  \n",
       "25%              2010-04-15 00:00:00  \n",
       "50%              2011-07-20 00:00:00  \n",
       "75%              2012-03-26 00:00:00  \n",
       "max              2012-10-26 00:00:00  \n",
       "std                              NaN  "
      ]
     },
     "execution_count": 22,
     "metadata": {},
     "output_type": "execute_result"
    }
   ],
   "source": [
    "clone_df.describe()"
   ]
  },
  {
   "cell_type": "markdown",
   "id": "aef55fd0-64c7-4b60-bf11-bba1380d2c79",
   "metadata": {},
   "source": [
    "`HelpfulnessNumerator` and `HelpfulnessDenominator` will be summarized into one column for readability."
   ]
  },
  {
   "cell_type": "code",
   "execution_count": 23,
   "id": "1c2ea4ac-07ef-40c0-a90f-c58426265cc5",
   "metadata": {},
   "outputs": [],
   "source": [
    "# making a new column called 'HelpfulnessRatio'\n",
    "\n",
    "clone_df['HelpfulnessRatio'] = np.where(\n",
    "    clone_df['HelpfulnessDenominator'] > 0,\n",
    "    clone_df['HelpfulnessNumerator'] / clone_df['HelpfulnessDenominator'],\n",
    "    np.nan\n",
    ")"
   ]
  },
  {
   "cell_type": "code",
   "execution_count": 24,
   "id": "c6126120-26ae-4291-8221-e0c0d256a20a",
   "metadata": {},
   "outputs": [
    {
     "data": {
      "text/plain": [
       "Index(['ProductId', 'UserId', 'ProfileName', 'HelpfulnessNumerator',\n",
       "       'HelpfulnessDenominator', 'Score', 'Time', 'Summary', 'Text',\n",
       "       'HelpfulnessRatio'],\n",
       "      dtype='object')"
      ]
     },
     "execution_count": 24,
     "metadata": {},
     "output_type": "execute_result"
    }
   ],
   "source": [
    "clone_df.columns"
   ]
  },
  {
   "cell_type": "code",
   "execution_count": 25,
   "id": "167eb451-b225-489b-bb8e-a81b31ea08e6",
   "metadata": {},
   "outputs": [
    {
     "data": {
      "text/plain": [
       "count    298297.000000\n",
       "mean          0.777072\n",
       "std           0.346237\n",
       "min           0.000000\n",
       "25%           0.600000\n",
       "50%           1.000000\n",
       "75%           1.000000\n",
       "max           3.000000\n",
       "Name: HelpfulnessRatio, dtype: float64"
      ]
     },
     "execution_count": 25,
     "metadata": {},
     "output_type": "execute_result"
    }
   ],
   "source": [
    "clone_df['HelpfulnessRatio'].describe()"
   ]
  },
  {
   "cell_type": "markdown",
   "id": "654526e3-c6fc-4ca0-b5d8-87d570f8da0b",
   "metadata": {},
   "source": [
    "Next I will examine the `Score` column and its distribution"
   ]
  },
  {
   "cell_type": "code",
   "execution_count": 26,
   "id": "25a3bb11-3dbe-4d78-9361-6769314cf333",
   "metadata": {},
   "outputs": [
    {
     "data": {
      "text/plain": [
       "Score\n",
       "1     52231\n",
       "2     29740\n",
       "3     42612\n",
       "4     80627\n",
       "5    362936\n",
       "Name: count, dtype: int64"
      ]
     },
     "execution_count": 26,
     "metadata": {},
     "output_type": "execute_result"
    }
   ],
   "source": [
    "clone_df['Score'].value_counts().sort_index()"
   ]
  },
  {
   "cell_type": "code",
   "execution_count": 27,
   "id": "e4e73fcf-ca2e-46cd-8084-b9d0e40bd4a6",
   "metadata": {},
   "outputs": [
    {
     "data": {
      "image/png": "[encoded data removed]",
      "text/plain": [
       "<Figure size 600x400 with 1 Axes>"
      ]
     },
     "metadata": {},
     "output_type": "display_data"
    }
   ],
   "source": [
    "# Plotting sorted value counts\n",
    "\n",
    "plt.figure(figsize=(6,4))\n",
    "clone_df['Score'].value_counts().sort_index().plot(kind='bar', color='DarkGreen', edgecolor='black')\n",
    "plt.title('Review Scores By Score')\n",
    "plt.xlabel('Score')\n",
    "plt.ylabel('Frequency')\n",
    "plt.show()\n"
   ]
  },
  {
   "cell_type": "markdown",
   "id": "f9269bb1-2750-4459-a185-c98eb1065464",
   "metadata": {},
   "source": [
    "The visualization shows a left or negative skew of the data, with most reviews being a 5 (4 is in a distant second)."
   ]
  },
  {
   "cell_type": "code",
   "execution_count": 28,
   "id": "dbaec5a5-a42d-48fd-a4f6-9afdde16237f",
   "metadata": {},
   "outputs": [
    {
     "data": {
      "text/plain": [
       "Score\n",
       "1    0.539134\n",
       "2    0.567228\n",
       "3    0.625777\n",
       "4    0.790842\n",
       "5    0.871522\n",
       "Name: HelpfulnessRatio, dtype: float64"
      ]
     },
     "execution_count": 28,
     "metadata": {},
     "output_type": "execute_result"
    }
   ],
   "source": [
    "# checking how 'HelpfulnessRatio' interacts with 'Score'\n",
    "\n",
    "clone_df.groupby('Score')['HelpfulnessRatio'].mean()"
   ]
  },
  {
   "cell_type": "markdown",
   "id": "c3051654-7d2c-48d9-b71a-99f000fa5bd0",
   "metadata": {},
   "source": [
    "As seen in the output above, higher ratings tend to be associated with greater helpfulness, indicating a positive correlation between `Score` and `HelpfulnessRatio`. This may suggest that readers perceive positive sentiment as a marker of credibility. Taking a more skeptical angle, however, this trend could also point to the presence of bots or other forms of artificial inflation boosting positive reviews, possibly at the behest of a benefitting party."
   ]
  },
  {
   "cell_type": "code",
   "execution_count": 29,
   "id": "df1e6d08-553d-4d88-995a-b687d740973c",
   "metadata": {},
   "outputs": [
    {
     "data": {
      "image/png": "[encoded data removed]",
      "text/plain": [
       "<Figure size 600x400 with 1 Axes>"
      ]
     },
     "metadata": {},
     "output_type": "display_data"
    }
   ],
   "source": [
    "#Visualizing 'HelpfulnessRatio' and 'Score' relationship\n",
    "\n",
    "plt.figure(figsize=(6,4))\n",
    "clone_df.groupby('Score')['HelpfulnessRatio'].mean().plot(\n",
    "    kind='bar', color='lightblue', edgecolor='Black'\n",
    ")\n",
    "plt.title('Average Helpfulness Ratio by Score')\n",
    "plt.xlabel('Score')\n",
    "plt.ylabel('Average Helpfulness Ratio')\n",
    "plt.show()\n"
   ]
  },
  {
   "cell_type": "markdown",
   "id": "7da7ab99-948b-47c3-bd0a-74d2cb94a625",
   "metadata": {},
   "source": [
    "The increase in average helpfulness ratio seems to be proportionate across scores, suggesting a steady, positive relationship between the two."
   ]
  },
  {
   "cell_type": "code",
   "execution_count": 30,
   "id": "c03106f9-dcc5-4a00-a9d0-8beae0e00140",
   "metadata": {},
   "outputs": [
    {
     "data": {
      "image/png": "[encoded data removed]",
      "text/plain": [
       "<Figure size 800x400 with 1 Axes>"
      ]
     },
     "metadata": {},
     "output_type": "display_data"
    }
   ],
   "source": [
    "# Checking the number of reviews made per year\n",
    "\n",
    "clone_df['Year'] = clone_df['Time'].dt.year\n",
    "clone_df['Year'].value_counts().sort_index().plot(kind='bar', figsize=(8,4))\n",
    "plt.title('Reviews per Year')\n",
    "plt.xlabel('Year')\n",
    "plt.ylabel('Count')\n",
    "plt.show()"
   ]
  },
  {
   "cell_type": "markdown",
   "id": "dc3da8b7-bdf1-45cd-8d2c-c4a62008253e",
   "metadata": {},
   "source": [
    "The above chart shows a steady increase in reviews per year over the years. That said, the number of reviews basically doubled between the years 2011 and 2012."
   ]
  },
  {
   "cell_type": "code",
   "execution_count": 31,
   "id": "73818076-95c0-4ead-9421-1ae359d90b73",
   "metadata": {},
   "outputs": [
    {
     "data": {
      "image/png": "[encoded data removed]",
      "text/plain": [
       "<Figure size 800x400 with 1 Axes>"
      ]
     },
     "metadata": {},
     "output_type": "display_data"
    }
   ],
   "source": [
    "# Checking average scores per year\n",
    "\n",
    "clone_df.groupby('Year')['Score'].mean().plot(figsize=(8,4))\n",
    "plt.title('Average Review Score per Year')\n",
    "plt.xlabel('Year')\n",
    "plt.ylabel('Average Score')\n",
    "plt.show()"
   ]
  },
  {
   "cell_type": "code",
   "execution_count": 32,
   "id": "7ba8b521-74ef-461c-a231-bd3f545437d2",
   "metadata": {},
   "outputs": [
    {
     "data": {
      "text/plain": [
       "Year\n",
       "1999         6\n",
       "2000        32\n",
       "2001        13\n",
       "2002        73\n",
       "2003       132\n",
       "2004       561\n",
       "2005      1334\n",
       "2006      6666\n",
       "2007     22260\n",
       "2008     34157\n",
       "2009     55287\n",
       "2010     85827\n",
       "2011    163199\n",
       "2012    198599\n",
       "Name: count, dtype: int64"
      ]
     },
     "execution_count": 32,
     "metadata": {},
     "output_type": "execute_result"
    }
   ],
   "source": [
    "clone_df['Year'].value_counts().sort_index()"
   ]
  },
  {
   "cell_type": "markdown",
   "id": "6b766298-9eba-4582-8e14-c4d8e2157d63",
   "metadata": {},
   "source": [
    "Aside from the noticeable decline in average scores over time, there was a conspicuous dip in the year 2001. I implemented a review count per year to gain greater insight into the anomaly. Using the information gained from this count, I was able to conclude that 2001 shows no meaningful trend, as the sample size is simply too small."
   ]
  },
  {
   "cell_type": "code",
   "execution_count": 33,
   "id": "a406f7e7-ea98-406c-92b3-fe9a79c4aa76",
   "metadata": {},
   "outputs": [],
   "source": [
    "# Checking the number of characters in each review text\n",
    "\n",
    "clone_df['TextLength'] = clone_df['Text'].apply(len)"
   ]
  },
  {
   "cell_type": "code",
   "execution_count": 34,
   "id": "4a170f1a-402a-496f-bcdd-ea07b6ea40f6",
   "metadata": {},
   "outputs": [
    {
     "data": {
      "text/plain": [
       "0    263\n",
       "1    190\n",
       "2    509\n",
       "3    219\n",
       "4    140\n",
       "5    416\n",
       "6    304\n",
       "7    140\n",
       "8    131\n",
       "9    137\n",
       "Name: TextLength, dtype: int64"
      ]
     },
     "execution_count": 34,
     "metadata": {},
     "output_type": "execute_result"
    }
   ],
   "source": [
    "clone_df['TextLength'].head(10)"
   ]
  },
  {
   "cell_type": "code",
   "execution_count": 35,
   "id": "adb3602a-ed0d-404e-9908-04ea922c39c0",
   "metadata": {},
   "outputs": [
    {
     "data": {
      "text/plain": [
       "Score\n",
       "1    476.628745\n",
       "2    490.942771\n",
       "3    520.099385\n",
       "4    496.494871\n",
       "5    402.348546\n",
       "Name: TextLength, dtype: float64"
      ]
     },
     "execution_count": 35,
     "metadata": {},
     "output_type": "execute_result"
    }
   ],
   "source": [
    "# Checking the average of characters in each review text\n",
    "\n",
    "clone_df.groupby('Score')['TextLength'].mean()"
   ]
  },
  {
   "cell_type": "code",
   "execution_count": 36,
   "id": "caa4a5bf-4b60-4709-b1ed-e98e7e40c506",
   "metadata": {},
   "outputs": [
    {
     "data": {
      "image/png": "[encoded data removed]",
      "text/plain": [
       "<Figure size 600x400 with 1 Axes>"
      ]
     },
     "metadata": {},
     "output_type": "display_data"
    }
   ],
   "source": [
    "# Plotting above output\n",
    "\n",
    "plt.figure(figsize=(6,4))\n",
    "clone_df.groupby('Score')['TextLength'].mean().plot(kind='bar', color='slateblue', edgecolor='black')\n",
    "plt.title('Average Review Length by Score')\n",
    "plt.xlabel('Score')\n",
    "plt.ylabel('Average Text Length (characters)')\n",
    "plt.show()\n"
   ]
  },
  {
   "cell_type": "markdown",
   "id": "19a162cf-01cc-4206-8cef-1d1f2fc94b46",
   "metadata": {},
   "source": [
    "As seen by the distribution, the highest number of characters for review text seems to be for scores of 3, with a steady decline for scores both higher and lower than three. This could be due to median review scores having more thought put into them, or a need to explain why the product is mediocre.\n",
    "\n",
    "On the other hand, reviews with a score of five receive the least amount of text, while reviews with a score of one are second to last. Following the same logic, polarized scores may not need as much explanation, or may simply not have as much thought put into them, indicating a review that may be based more on mood or how one feels at the time."
   ]
  },
  {
   "cell_type": "code",
   "execution_count": 37,
   "id": "5190bd1f-0c9f-454d-bcbb-cb1de6d918eb",
   "metadata": {},
   "outputs": [],
   "source": [
    "# Doing the same thing but counting words instead of characters\n",
    "\n",
    "clone_df['WordCount'] = clone_df['Text'].apply(lambda x: len(str(x).split()))"
   ]
  },
  {
   "cell_type": "code",
   "execution_count": 38,
   "id": "04c76e73-e6ee-4c1c-b1ae-b46e6e75590b",
   "metadata": {},
   "outputs": [
    {
     "data": {
      "text/plain": [
       "0    48\n",
       "1    31\n",
       "2    94\n",
       "3    41\n",
       "4    27\n",
       "Name: WordCount, dtype: int64"
      ]
     },
     "execution_count": 38,
     "metadata": {},
     "output_type": "execute_result"
    }
   ],
   "source": [
    "clone_df['WordCount'].head()"
   ]
  },
  {
   "cell_type": "code",
   "execution_count": 39,
   "id": "920428fe-c1b0-423d-8ac8-ad4c25f9ae0a",
   "metadata": {},
   "outputs": [
    {
     "data": {
      "text/plain": [
       "Score\n",
       "1    87.054833\n",
       "2    90.090720\n",
       "3    95.611823\n",
       "4    91.374428\n",
       "5    74.150980\n",
       "Name: WordCount, dtype: float64"
      ]
     },
     "execution_count": 39,
     "metadata": {},
     "output_type": "execute_result"
    }
   ],
   "source": [
    "clone_df.groupby('Score')['WordCount'].mean()"
   ]
  },
  {
   "cell_type": "code",
   "execution_count": 40,
   "id": "aeb977c5-4025-4f2b-b4a8-6b8b3123fbd5",
   "metadata": {},
   "outputs": [
    {
     "data": {
      "image/png": "[encoded data removed]",
      "text/plain": [
       "<Figure size 600x400 with 1 Axes>"
      ]
     },
     "metadata": {},
     "output_type": "display_data"
    }
   ],
   "source": [
    "import matplotlib.pyplot as plt\n",
    "\n",
    "plt.figure(figsize=(6,4))\n",
    "clone_df.groupby('Score')['WordCount'].mean().plot(kind='bar', color='cornflowerblue', edgecolor='black')\n",
    "plt.title('Average Review Length (Words) by Score')\n",
    "plt.xlabel('Score')\n",
    "plt.ylabel('Average Word Count')\n",
    "plt.show()"
   ]
  },
  {
   "cell_type": "markdown",
   "id": "3cabbb4f-965f-4a2e-85ad-00bed7754d97",
   "metadata": {},
   "source": [
    "As depicted, the distribution among the five scores is largely the same whether characters or words are being counted. Here, where the number of words per review was measured, we see scores of 3 with the highest word counts, and scores of both 1 and 5 in the bottom two."
   ]
  },
  {
   "cell_type": "code",
   "execution_count": 41,
   "id": "6da48979-ad09-4cde-a025-03f0c3784ccf",
   "metadata": {},
   "outputs": [
    {
     "data": {
      "text/html": [
       "<div>\n",
       "<style scoped>\n",
       "    .dataframe tbody tr th:only-of-type {\n",
       "        vertical-align: middle;\n",
       "    }\n",
       "\n",
       "    .dataframe tbody tr th {\n",
       "        vertical-align: top;\n",
       "    }\n",
       "\n",
       "    .dataframe thead th {\n",
       "        text-align: right;\n",
       "    }\n",
       "</style>\n",
       "<table border=\"1\" class=\"dataframe\">\n",
       "  <thead>\n",
       "    <tr style=\"text-align: right;\">\n",
       "      <th></th>\n",
       "      <th>WordCount</th>\n",
       "      <th>HelpfulnessRatio</th>\n",
       "    </tr>\n",
       "  </thead>\n",
       "  <tbody>\n",
       "    <tr>\n",
       "      <th>WordCount</th>\n",
       "      <td>1.00000</td>\n",
       "      <td>0.04079</td>\n",
       "    </tr>\n",
       "    <tr>\n",
       "      <th>HelpfulnessRatio</th>\n",
       "      <td>0.04079</td>\n",
       "      <td>1.00000</td>\n",
       "    </tr>\n",
       "  </tbody>\n",
       "</table>\n",
       "</div>"
      ],
      "text/plain": [
       "                  WordCount  HelpfulnessRatio\n",
       "WordCount           1.00000           0.04079\n",
       "HelpfulnessRatio    0.04079           1.00000"
      ]
     },
     "execution_count": 41,
     "metadata": {},
     "output_type": "execute_result"
    }
   ],
   "source": [
    "# Checking to see if longer reviews tend to be labeled as more helpful or not\n",
    "\n",
    "clone_df[['WordCount', 'HelpfulnessRatio']].corr()\n"
   ]
  },
  {
   "cell_type": "markdown",
   "id": "eb45e438-4f9c-4d3b-844b-543251ac560e",
   "metadata": {},
   "source": [
    "There appears to be next to no relationship between word count and helpfulness in the dataset (0.041). This indicates that the number of words or characters does not have much effect on perceived helpfulness. This perception may instead be more closely tied to factors such as review age, score, or visibility. The many reviews with no helpfulness votes are not skewing the relationship, as they appear as `NaN` in the dataset and are excluded from the calculation."
   ]
  },
  {
   "cell_type": "code",
   "execution_count": 43,
   "id": "5edf7c63-6ab3-4a10-921f-f9bd604bae77",
   "metadata": {},
   "outputs": [
    {
     "data": {
      "text/plain": [
       "count    256056.000000\n",
       "mean          2.218835\n",
       "std           4.430088\n",
       "min           1.000000\n",
       "25%           1.000000\n",
       "50%           1.000000\n",
       "75%           2.000000\n",
       "max         447.000000\n",
       "Name: count, dtype: float64"
      ]
     },
     "execution_count": 43,
     "metadata": {},
     "output_type": "execute_result"
    }
   ],
   "source": [
    "# Getting an idea of user activity regarding reviews\n",
    "\n",
    "user_reviewing = clone_df['UserId'].value_counts()\n",
    "\n",
    "user_reviewing.describe()"
   ]
  },
  {
   "cell_type": "code",
   "execution_count": 45,
   "id": "cd60e54c-5fd1-48bc-b1c7-3169be96d57c",
   "metadata": {},
   "outputs": [
    {
     "data": {
      "image/png": "[encoded data removed]",
      "text/plain": [
       "<Figure size 600x400 with 1 Axes>"
      ]
     },
     "metadata": {},
     "output_type": "display_data"
    }
   ],
   "source": [
    "# Visualizing user activity\n",
    "\n",
    "plt.figure(figsize=(6,4))\n",
    "plt.hist(clone_df['UserId'].value_counts(), bins=50, color='mediumseagreen', edgecolor='black')\n",
    "plt.yscale('log')\n",
    "plt.title('Distribution of Reviews per User')\n",
    "plt.xlabel('Number of Reviews by User')\n",
    "plt.ylabel('Frequency (log scale)')\n",
    "plt.show()\n"
   ]
  },
  {
   "cell_type": "code",
   "execution_count": 50,
   "id": "f172c173-f2fe-4149-9c36-6d16e345ddf5",
   "metadata": {},
   "outputs": [
    {
     "data": {
      "text/plain": [
       "UserId\n",
       "A3OXHLG6DIBRW8    447\n",
       "A1YUL9PCJR3JTY    418\n",
       "AY12DBB0U420B     389\n",
       "A281NPSIMI1C2R    365\n",
       "A1Z54EM24Y40LL    256\n",
       "A1TMAVN4CEM8U8    204\n",
       "A2MUGFV2TDQ47K    201\n",
       "A3TVZM3ZIXG8YW    182\n",
       "A3PJZ8TU8FDQ1K    178\n",
       "AQQLWCMRNDFGI     176\n",
       "A2SZLNSI5KOQJT    175\n",
       "AZV26LP92E6WU     167\n",
       "AY1EF0GOH80EK     162\n",
       "A31N6KB160O508    162\n",
       "A2FRFAQCWZJT3Q    161\n",
       "A29JUMRL1US6YP    158\n",
       "A1UQBFCERIP7VJ    157\n",
       "AKMEY1BSHSDG7     155\n",
       "A1LZJZIHUPLDV4    154\n",
       "A1WX42M589VAMQ    151\n",
       "A2Y8IDC1FKGNJC    150\n",
       "A3D6OI36USYOU1    150\n",
       "A3HPCRD9RX351S    149\n",
       "A2PNOU7NXB1JE4    143\n",
       "A33AQPJYH7UUXR    142\n",
       "AKZKG2Z7CNV27     141\n",
       "A35R32TA60XD57    141\n",
       "A1IU7S4HCK1XK0    140\n",
       "A1X1CEGHTHMBL1    135\n",
       "A36WGHR8TO5DKT    134\n",
       "A2DPYMNI2HCIOI    133\n",
       "AQLL2R1PPR46X     133\n",
       "A3FY3H6F4249E0    127\n",
       "A1HRYC60VTMYC0    126\n",
       "ADS5APY1NKTL4     125\n",
       "A2GEZJHBV92EVR    125\n",
       "ALSAOZ1V546VT     123\n",
       "A3F3B1JPACN215    121\n",
       "A1P2XYD265YE21    120\n",
       "A3FKGKUCI3DG9U    119\n",
       "A2XNOB1T796Y6B    119\n",
       "A36MP37DITBU6F    118\n",
       "A2R6RA8FRBS608    117\n",
       "A3QNQQKJTL76H0    116\n",
       "A2M9D9BDHONV3Y    115\n",
       "A1ZH9LWMX5UCFJ    114\n",
       "A25C2M3QF9G7OQ    114\n",
       "A250AXLRBVYKB4    113\n",
       "AEC90GPFKLAAW     113\n",
       "A17HMM1M7T9PJ1    113\n",
       "Name: count, dtype: int64"
      ]
     },
     "execution_count": 50,
     "metadata": {},
     "output_type": "execute_result"
    }
   ],
   "source": [
    "clone_df['UserId'].value_counts().head(50)\n"
   ]
  },
  {
   "cell_type": "markdown",
   "id": "4a9b2670-6871-497c-860c-5f84804ca564",
   "metadata": {},
   "source": [
    "The `describe()` info and the histogram show data that is positively skewed. Most reviewers contribute 1-2 reviews to the website, while a very small minority of the reviewers contribute hundreds of reviews. "
   ]
  },
  {
   "cell_type": "code",
   "execution_count": 51,
   "id": "529446cc-da36-4eae-b486-33e21974f60f",
   "metadata": {},
   "outputs": [],
   "source": [
    "# Making a new dataframe consisting of User ID's and their average helpfulness ratio. This will come in handy when determining the relationship between reviewer prominence and helpfulness ratio.\n",
    "\n",
    "reviewer_stats = (\n",
    "    clone_df.groupby('UserId')\n",
    "    .agg({\n",
    "        'HelpfulnessRatio': 'mean',\n",
    "        'UserId': 'count'\n",
    "    })\n",
    "    .rename(columns={'UserId': 'ReviewCount'})\n",
    ")\n"
   ]
  },
  {
   "cell_type": "code",
   "execution_count": 54,
   "id": "2e4e682b-8c4c-497b-a544-00219f42a949",
   "metadata": {},
   "outputs": [
    {
     "data": {
      "text/html": [
       "<div>\n",
       "<style scoped>\n",
       "    .dataframe tbody tr th:only-of-type {\n",
       "        vertical-align: middle;\n",
       "    }\n",
       "\n",
       "    .dataframe tbody tr th {\n",
       "        vertical-align: top;\n",
       "    }\n",
       "\n",
       "    .dataframe thead th {\n",
       "        text-align: right;\n",
       "    }\n",
       "</style>\n",
       "<table border=\"1\" class=\"dataframe\">\n",
       "  <thead>\n",
       "    <tr style=\"text-align: right;\">\n",
       "      <th></th>\n",
       "      <th>HelpfulnessRatio</th>\n",
       "      <th>ReviewCount</th>\n",
       "    </tr>\n",
       "    <tr>\n",
       "      <th>UserId</th>\n",
       "      <th></th>\n",
       "      <th></th>\n",
       "    </tr>\n",
       "  </thead>\n",
       "  <tbody>\n",
       "    <tr>\n",
       "      <th>#oc-R103C0QSV1DF5E</th>\n",
       "      <td>0.5</td>\n",
       "      <td>1</td>\n",
       "    </tr>\n",
       "    <tr>\n",
       "      <th>#oc-R109MU5OBBZ59U</th>\n",
       "      <td>0.0</td>\n",
       "      <td>1</td>\n",
       "    </tr>\n",
       "    <tr>\n",
       "      <th>#oc-R10LFEMQEW6QGZ</th>\n",
       "      <td>0.0</td>\n",
       "      <td>1</td>\n",
       "    </tr>\n",
       "    <tr>\n",
       "      <th>#oc-R10LT57ZGIB140</th>\n",
       "      <td>NaN</td>\n",
       "      <td>1</td>\n",
       "    </tr>\n",
       "    <tr>\n",
       "      <th>#oc-R10UA029WVWIUI</th>\n",
       "      <td>NaN</td>\n",
       "      <td>1</td>\n",
       "    </tr>\n",
       "  </tbody>\n",
       "</table>\n",
       "</div>"
      ],
      "text/plain": [
       "                    HelpfulnessRatio  ReviewCount\n",
       "UserId                                           \n",
       "#oc-R103C0QSV1DF5E               0.5            1\n",
       "#oc-R109MU5OBBZ59U               0.0            1\n",
       "#oc-R10LFEMQEW6QGZ               0.0            1\n",
       "#oc-R10LT57ZGIB140               NaN            1\n",
       "#oc-R10UA029WVWIUI               NaN            1"
      ]
     },
     "execution_count": 54,
     "metadata": {},
     "output_type": "execute_result"
    }
   ],
   "source": [
    "reviewer_stats.head()"
   ]
  },
  {
   "cell_type": "code",
   "execution_count": 55,
   "id": "1ee99879-1a9d-42e3-b051-293b94e63280",
   "metadata": {},
   "outputs": [
    {
     "data": {
      "text/html": [
       "<div>\n",
       "<style scoped>\n",
       "    .dataframe tbody tr th:only-of-type {\n",
       "        vertical-align: middle;\n",
       "    }\n",
       "\n",
       "    .dataframe tbody tr th {\n",
       "        vertical-align: top;\n",
       "    }\n",
       "\n",
       "    .dataframe thead th {\n",
       "        text-align: right;\n",
       "    }\n",
       "</style>\n",
       "<table border=\"1\" class=\"dataframe\">\n",
       "  <thead>\n",
       "    <tr style=\"text-align: right;\">\n",
       "      <th></th>\n",
       "      <th>ReviewCount</th>\n",
       "      <th>HelpfulnessRatio</th>\n",
       "    </tr>\n",
       "  </thead>\n",
       "  <tbody>\n",
       "    <tr>\n",
       "      <th>ReviewCount</th>\n",
       "      <td>1.000000</td>\n",
       "      <td>-0.021588</td>\n",
       "    </tr>\n",
       "    <tr>\n",
       "      <th>HelpfulnessRatio</th>\n",
       "      <td>-0.021588</td>\n",
       "      <td>1.000000</td>\n",
       "    </tr>\n",
       "  </tbody>\n",
       "</table>\n",
       "</div>"
      ],
      "text/plain": [
       "                  ReviewCount  HelpfulnessRatio\n",
       "ReviewCount          1.000000         -0.021588\n",
       "HelpfulnessRatio    -0.021588          1.000000"
      ]
     },
     "execution_count": 55,
     "metadata": {},
     "output_type": "execute_result"
    }
   ],
   "source": [
    "reviewer_stats[['ReviewCount', 'HelpfulnessRatio']].corr()"
   ]
  },
  {
   "cell_type": "code",
   "execution_count": 56,
   "id": "76bf3468-de96-4d80-b10d-32930c5e452d",
   "metadata": {},
   "outputs": [
    {
     "data": {
      "image/png": "[encoded data removed]",
      "text/plain": [
       "<Figure size 600x400 with 1 Axes>"
      ]
     },
     "metadata": {},
     "output_type": "display_data"
    }
   ],
   "source": [
    "plt.figure(figsize=(6,4))\n",
    "plt.scatter(np.log1p(reviewer_stats['ReviewCount']),\n",
    "            reviewer_stats['HelpfulnessRatio'],\n",
    "            alpha=0.3)\n",
    "plt.title('Reviewer Activity vs Average Helpfulness')\n",
    "plt.xlabel('log(Review Count)')\n",
    "plt.ylabel('Average Helpfulness Ratio')\n",
    "plt.show()\n"
   ]
  },
  {
   "cell_type": "code",
   "execution_count": 57,
   "id": "a08154b4-2cde-42fa-b7fa-e923a87b6e10",
   "metadata": {},
   "outputs": [
    {
     "name": "stdout",
     "output_type": "stream",
     "text": [
      "Top 20 avg helpfulness: 0.8590521277990385\n",
      "Bottom 20 avg helpfulness: 0.4423314780457637\n"
     ]
    }
   ],
   "source": [
    "top_reviewers = reviewer_stats.nlargest(20, 'ReviewCount')\n",
    "bottom_reviewers = reviewer_stats.nsmallest(20, 'ReviewCount')\n",
    "\n",
    "print(\"Top 20 avg helpfulness:\", top_reviewers['HelpfulnessRatio'].mean())\n",
    "print(\"Bottom 20 avg helpfulness:\", bottom_reviewers['HelpfulnessRatio'].mean())\n"
   ]
  },
  {
   "cell_type": "markdown",
   "id": "df7c40ff-1012-44d2-b983-ffaf3bdd468f",
   "metadata": {},
   "source": [
    "The number of reviews written by a given reviewer is weakly correlated with their average helpfulness ratio (approximately -0.022), indicating that prominence and perceived helpfulness have little to do with one another. That said, reviewers with the highest number of reviews experienced almost double the perceived helpfulness than those with the fewest reviews."
   ]
  },
  {
   "cell_type": "code",
   "execution_count": 58,
   "id": "c9dc1bd5-359a-4757-838e-8e0cb27a3369",
   "metadata": {},
   "outputs": [
    {
     "data": {
      "text/html": [
       "<div>\n",
       "<style scoped>\n",
       "    .dataframe tbody tr th:only-of-type {\n",
       "        vertical-align: middle;\n",
       "    }\n",
       "\n",
       "    .dataframe tbody tr th {\n",
       "        vertical-align: top;\n",
       "    }\n",
       "\n",
       "    .dataframe thead th {\n",
       "        text-align: right;\n",
       "    }\n",
       "</style>\n",
       "<table border=\"1\" class=\"dataframe\">\n",
       "  <thead>\n",
       "    <tr style=\"text-align: right;\">\n",
       "      <th></th>\n",
       "      <th>ProductId</th>\n",
       "      <th>UserId</th>\n",
       "      <th>ProfileName</th>\n",
       "      <th>HelpfulnessNumerator</th>\n",
       "      <th>HelpfulnessDenominator</th>\n",
       "      <th>Score</th>\n",
       "      <th>Time</th>\n",
       "      <th>Summary</th>\n",
       "      <th>Text</th>\n",
       "      <th>HelpfulnessRatio</th>\n",
       "      <th>Year</th>\n",
       "      <th>TextLength</th>\n",
       "      <th>WordCount</th>\n",
       "    </tr>\n",
       "  </thead>\n",
       "  <tbody>\n",
       "    <tr>\n",
       "      <th>0</th>\n",
       "      <td>B001E4KFG0</td>\n",
       "      <td>A3SGXH7AUHU8GW</td>\n",
       "      <td>delmartian</td>\n",
       "      <td>1</td>\n",
       "      <td>1</td>\n",
       "      <td>5</td>\n",
       "      <td>2011-04-27</td>\n",
       "      <td>Good Quality Dog Food</td>\n",
       "      <td>I have bought several of the Vitality canned d...</td>\n",
       "      <td>1.0</td>\n",
       "      <td>2011</td>\n",
       "      <td>263</td>\n",
       "      <td>48</td>\n",
       "    </tr>\n",
       "    <tr>\n",
       "      <th>1</th>\n",
       "      <td>B00813GRG4</td>\n",
       "      <td>A1D87F6ZCVE5NK</td>\n",
       "      <td>dll pa</td>\n",
       "      <td>0</td>\n",
       "      <td>0</td>\n",
       "      <td>1</td>\n",
       "      <td>2012-09-07</td>\n",
       "      <td>Not as Advertised</td>\n",
       "      <td>Product arrived labeled as Jumbo Salted Peanut...</td>\n",
       "      <td>NaN</td>\n",
       "      <td>2012</td>\n",
       "      <td>190</td>\n",
       "      <td>31</td>\n",
       "    </tr>\n",
       "    <tr>\n",
       "      <th>2</th>\n",
       "      <td>B000LQOCH0</td>\n",
       "      <td>ABXLMWJIXXAIN</td>\n",
       "      <td>Natalia Corres \"Natalia Corres\"</td>\n",
       "      <td>1</td>\n",
       "      <td>1</td>\n",
       "      <td>4</td>\n",
       "      <td>2008-08-18</td>\n",
       "      <td>\"Delight\" says it all</td>\n",
       "      <td>This is a confection that has been around a fe...</td>\n",
       "      <td>1.0</td>\n",
       "      <td>2008</td>\n",
       "      <td>509</td>\n",
       "      <td>94</td>\n",
       "    </tr>\n",
       "    <tr>\n",
       "      <th>3</th>\n",
       "      <td>B000UA0QIQ</td>\n",
       "      <td>A395BORC6FGVXV</td>\n",
       "      <td>Karl</td>\n",
       "      <td>3</td>\n",
       "      <td>3</td>\n",
       "      <td>2</td>\n",
       "      <td>2011-06-13</td>\n",
       "      <td>Cough Medicine</td>\n",
       "      <td>If you are looking for the secret ingredient i...</td>\n",
       "      <td>1.0</td>\n",
       "      <td>2011</td>\n",
       "      <td>219</td>\n",
       "      <td>41</td>\n",
       "    </tr>\n",
       "    <tr>\n",
       "      <th>4</th>\n",
       "      <td>B006K2ZZ7K</td>\n",
       "      <td>A1UQRSCLF8GW1T</td>\n",
       "      <td>Michael D. Bigham \"M. Wassir\"</td>\n",
       "      <td>0</td>\n",
       "      <td>0</td>\n",
       "      <td>5</td>\n",
       "      <td>2012-10-21</td>\n",
       "      <td>Great taffy</td>\n",
       "      <td>Great taffy at a great price.  There was a wid...</td>\n",
       "      <td>NaN</td>\n",
       "      <td>2012</td>\n",
       "      <td>140</td>\n",
       "      <td>27</td>\n",
       "    </tr>\n",
       "  </tbody>\n",
       "</table>\n",
       "</div>"
      ],
      "text/plain": [
       "    ProductId          UserId                      ProfileName  \\\n",
       "0  B001E4KFG0  A3SGXH7AUHU8GW                       delmartian   \n",
       "1  B00813GRG4  A1D87F6ZCVE5NK                           dll pa   \n",
       "2  B000LQOCH0   ABXLMWJIXXAIN  Natalia Corres \"Natalia Corres\"   \n",
       "3  B000UA0QIQ  A395BORC6FGVXV                             Karl   \n",
       "4  B006K2ZZ7K  A1UQRSCLF8GW1T    Michael D. Bigham \"M. Wassir\"   \n",
       "\n",
       "   HelpfulnessNumerator  HelpfulnessDenominator  Score       Time  \\\n",
       "0                     1                       1      5 2011-04-27   \n",
       "1                     0                       0      1 2012-09-07   \n",
       "2                     1                       1      4 2008-08-18   \n",
       "3                     3                       3      2 2011-06-13   \n",
       "4                     0                       0      5 2012-10-21   \n",
       "\n",
       "                 Summary                                               Text  \\\n",
       "0  Good Quality Dog Food  I have bought several of the Vitality canned d...   \n",
       "1      Not as Advertised  Product arrived labeled as Jumbo Salted Peanut...   \n",
       "2  \"Delight\" says it all  This is a confection that has been around a fe...   \n",
       "3         Cough Medicine  If you are looking for the secret ingredient i...   \n",
       "4            Great taffy  Great taffy at a great price.  There was a wid...   \n",
       "\n",
       "   HelpfulnessRatio  Year  TextLength  WordCount  \n",
       "0               1.0  2011         263         48  \n",
       "1               NaN  2012         190         31  \n",
       "2               1.0  2008         509         94  \n",
       "3               1.0  2011         219         41  \n",
       "4               NaN  2012         140         27  "
      ]
     },
     "execution_count": 58,
     "metadata": {},
     "output_type": "execute_result"
    }
   ],
   "source": [
    "clone_df.head()"
   ]
  },
  {
   "cell_type": "markdown",
   "id": "e598e2d7-3cb4-4864-81d4-ec7dda3eab2a",
   "metadata": {},
   "source": [
    "---------"
   ]
  },
  {
   "cell_type": "markdown",
   "id": "9008d86b-b526-4372-9312-d078084581d6",
   "metadata": {},
   "source": [
    "## Feature Engineering"
   ]
  },
  {
   "cell_type": "code",
   "execution_count": 59,
   "id": "08aeea08-aad7-4d69-a0a2-5ad72aea1da2",
   "metadata": {},
   "outputs": [],
   "source": [
    "# Cloning the dataframe again for caution\n",
    "\n",
    "model_df = clone_df.copy()"
   ]
  },
  {
   "cell_type": "code",
   "execution_count": 60,
   "id": "4cc11aa7-e40e-4f3b-bc3a-18a2fba3c1b6",
   "metadata": {},
   "outputs": [
    {
     "data": {
      "text/html": [
       "<div>\n",
       "<style scoped>\n",
       "    .dataframe tbody tr th:only-of-type {\n",
       "        vertical-align: middle;\n",
       "    }\n",
       "\n",
       "    .dataframe tbody tr th {\n",
       "        vertical-align: top;\n",
       "    }\n",
       "\n",
       "    .dataframe thead th {\n",
       "        text-align: right;\n",
       "    }\n",
       "</style>\n",
       "<table border=\"1\" class=\"dataframe\">\n",
       "  <thead>\n",
       "    <tr style=\"text-align: right;\">\n",
       "      <th></th>\n",
       "      <th>ProductId</th>\n",
       "      <th>UserId</th>\n",
       "      <th>ProfileName</th>\n",
       "      <th>HelpfulnessNumerator</th>\n",
       "      <th>HelpfulnessDenominator</th>\n",
       "      <th>Score</th>\n",
       "      <th>Time</th>\n",
       "      <th>Summary</th>\n",
       "      <th>Text</th>\n",
       "      <th>HelpfulnessRatio</th>\n",
       "      <th>Year</th>\n",
       "      <th>TextLength</th>\n",
       "      <th>WordCount</th>\n",
       "    </tr>\n",
       "  </thead>\n",
       "  <tbody>\n",
       "    <tr>\n",
       "      <th>0</th>\n",
       "      <td>B001E4KFG0</td>\n",
       "      <td>A3SGXH7AUHU8GW</td>\n",
       "      <td>delmartian</td>\n",
       "      <td>1</td>\n",
       "      <td>1</td>\n",
       "      <td>5</td>\n",
       "      <td>2011-04-27</td>\n",
       "      <td>Good Quality Dog Food</td>\n",
       "      <td>I have bought several of the Vitality canned d...</td>\n",
       "      <td>1.0</td>\n",
       "      <td>2011</td>\n",
       "      <td>263</td>\n",
       "      <td>48</td>\n",
       "    </tr>\n",
       "    <tr>\n",
       "      <th>1</th>\n",
       "      <td>B00813GRG4</td>\n",
       "      <td>A1D87F6ZCVE5NK</td>\n",
       "      <td>dll pa</td>\n",
       "      <td>0</td>\n",
       "      <td>0</td>\n",
       "      <td>1</td>\n",
       "      <td>2012-09-07</td>\n",
       "      <td>Not as Advertised</td>\n",
       "      <td>Product arrived labeled as Jumbo Salted Peanut...</td>\n",
       "      <td>NaN</td>\n",
       "      <td>2012</td>\n",
       "      <td>190</td>\n",
       "      <td>31</td>\n",
       "    </tr>\n",
       "    <tr>\n",
       "      <th>2</th>\n",
       "      <td>B000LQOCH0</td>\n",
       "      <td>ABXLMWJIXXAIN</td>\n",
       "      <td>Natalia Corres \"Natalia Corres\"</td>\n",
       "      <td>1</td>\n",
       "      <td>1</td>\n",
       "      <td>4</td>\n",
       "      <td>2008-08-18</td>\n",
       "      <td>\"Delight\" says it all</td>\n",
       "      <td>This is a confection that has been around a fe...</td>\n",
       "      <td>1.0</td>\n",
       "      <td>2008</td>\n",
       "      <td>509</td>\n",
       "      <td>94</td>\n",
       "    </tr>\n",
       "    <tr>\n",
       "      <th>3</th>\n",
       "      <td>B000UA0QIQ</td>\n",
       "      <td>A395BORC6FGVXV</td>\n",
       "      <td>Karl</td>\n",
       "      <td>3</td>\n",
       "      <td>3</td>\n",
       "      <td>2</td>\n",
       "      <td>2011-06-13</td>\n",
       "      <td>Cough Medicine</td>\n",
       "      <td>If you are looking for the secret ingredient i...</td>\n",
       "      <td>1.0</td>\n",
       "      <td>2011</td>\n",
       "      <td>219</td>\n",
       "      <td>41</td>\n",
       "    </tr>\n",
       "    <tr>\n",
       "      <th>4</th>\n",
       "      <td>B006K2ZZ7K</td>\n",
       "      <td>A1UQRSCLF8GW1T</td>\n",
       "      <td>Michael D. Bigham \"M. Wassir\"</td>\n",
       "      <td>0</td>\n",
       "      <td>0</td>\n",
       "      <td>5</td>\n",
       "      <td>2012-10-21</td>\n",
       "      <td>Great taffy</td>\n",
       "      <td>Great taffy at a great price.  There was a wid...</td>\n",
       "      <td>NaN</td>\n",
       "      <td>2012</td>\n",
       "      <td>140</td>\n",
       "      <td>27</td>\n",
       "    </tr>\n",
       "  </tbody>\n",
       "</table>\n",
       "</div>"
      ],
      "text/plain": [
       "    ProductId          UserId                      ProfileName  \\\n",
       "0  B001E4KFG0  A3SGXH7AUHU8GW                       delmartian   \n",
       "1  B00813GRG4  A1D87F6ZCVE5NK                           dll pa   \n",
       "2  B000LQOCH0   ABXLMWJIXXAIN  Natalia Corres \"Natalia Corres\"   \n",
       "3  B000UA0QIQ  A395BORC6FGVXV                             Karl   \n",
       "4  B006K2ZZ7K  A1UQRSCLF8GW1T    Michael D. Bigham \"M. Wassir\"   \n",
       "\n",
       "   HelpfulnessNumerator  HelpfulnessDenominator  Score       Time  \\\n",
       "0                     1                       1      5 2011-04-27   \n",
       "1                     0                       0      1 2012-09-07   \n",
       "2                     1                       1      4 2008-08-18   \n",
       "3                     3                       3      2 2011-06-13   \n",
       "4                     0                       0      5 2012-10-21   \n",
       "\n",
       "                 Summary                                               Text  \\\n",
       "0  Good Quality Dog Food  I have bought several of the Vitality canned d...   \n",
       "1      Not as Advertised  Product arrived labeled as Jumbo Salted Peanut...   \n",
       "2  \"Delight\" says it all  This is a confection that has been around a fe...   \n",
       "3         Cough Medicine  If you are looking for the secret ingredient i...   \n",
       "4            Great taffy  Great taffy at a great price.  There was a wid...   \n",
       "\n",
       "   HelpfulnessRatio  Year  TextLength  WordCount  \n",
       "0               1.0  2011         263         48  \n",
       "1               NaN  2012         190         31  \n",
       "2               1.0  2008         509         94  \n",
       "3               1.0  2011         219         41  \n",
       "4               NaN  2012         140         27  "
      ]
     },
     "execution_count": 60,
     "metadata": {},
     "output_type": "execute_result"
    }
   ],
   "source": [
    "model_df.head()"
   ]
  },
  {
   "cell_type": "code",
   "execution_count": 61,
   "id": "d931951c-f0a1-490c-81b2-b9e0c3cc5b24",
   "metadata": {},
   "outputs": [
    {
     "data": {
      "text/plain": [
       "Index(['ProductId', 'UserId', 'ProfileName', 'HelpfulnessNumerator',\n",
       "       'HelpfulnessDenominator', 'Score', 'Time', 'Summary', 'Text',\n",
       "       'HelpfulnessRatio', 'Year', 'TextLength', 'WordCount'],\n",
       "      dtype='object')"
      ]
     },
     "execution_count": 61,
     "metadata": {},
     "output_type": "execute_result"
    }
   ],
   "source": [
    "model_df.columns"
   ]
  },
  {
   "cell_type": "code",
   "execution_count": 62,
   "id": "cabfcfd7-adf8-4204-ad30-e7e86c39fe70",
   "metadata": {},
   "outputs": [],
   "source": [
    "# Dropping the 'ProfileName' column as it is redundant\n",
    "\n",
    "model_df.drop(columns = ['ProfileName'], inplace = True)"
   ]
  },
  {
   "cell_type": "code",
   "execution_count": 63,
   "id": "cce38b72-7cd3-48f0-8a72-54ce0a138b7c",
   "metadata": {},
   "outputs": [
    {
     "data": {
      "text/plain": [
       "Index(['ProductId', 'UserId', 'HelpfulnessNumerator', 'HelpfulnessDenominator',\n",
       "       'Score', 'Time', 'Summary', 'Text', 'HelpfulnessRatio', 'Year',\n",
       "       'TextLength', 'WordCount'],\n",
       "      dtype='object')"
      ]
     },
     "execution_count": 63,
     "metadata": {},
     "output_type": "execute_result"
    }
   ],
   "source": [
    "model_df.columns"
   ]
  },
  {
   "cell_type": "markdown",
   "id": "de25c1fa-35e5-4330-b8aa-979e0bb330e4",
   "metadata": {},
   "source": [
    "I will now remove  the `NaN` values in the `HelpfulnessRatio` column. The best approach would be to fill the `NaN` values with 0. Dropping all the rows would remove too much data (more than half of all of its entries are `NaN`)"
   ]
  },
  {
   "cell_type": "code",
   "execution_count": 67,
   "id": "c2220e62-7e12-46d7-b35d-f5385afa7a5f",
   "metadata": {},
   "outputs": [
    {
     "data": {
      "text/plain": [
       "269849"
      ]
     },
     "execution_count": 67,
     "metadata": {},
     "output_type": "execute_result"
    }
   ],
   "source": [
    "model_df['HelpfulnessRatio'].isnull().sum()"
   ]
  },
  {
   "cell_type": "code",
   "execution_count": 68,
   "id": "6e285bd4-6105-4a13-b113-99bea20aaa59",
   "metadata": {},
   "outputs": [],
   "source": [
    "model_df['HelpfulnessRatio'].fillna(0, inplace = True)"
   ]
  },
  {
   "cell_type": "code",
   "execution_count": 69,
   "id": "0584ee91-65f7-45eb-b066-1781493a2953",
   "metadata": {},
   "outputs": [
    {
     "data": {
      "text/plain": [
       "0"
      ]
     },
     "execution_count": 69,
     "metadata": {},
     "output_type": "execute_result"
    }
   ],
   "source": [
    "model_df['HelpfulnessRatio'].isnull().sum()"
   ]
  },
  {
   "cell_type": "code",
   "execution_count": 73,
   "id": "9f3da123-7079-4815-affa-a2f764e78cad",
   "metadata": {},
   "outputs": [
    {
     "data": {
      "text/plain": [
       "ProductId                         object\n",
       "UserId                            object\n",
       "HelpfulnessNumerator               int64\n",
       "HelpfulnessDenominator             int64\n",
       "Score                              int64\n",
       "Time                      datetime64[ns]\n",
       "Summary                           object\n",
       "Text                              object\n",
       "HelpfulnessRatio                 float64\n",
       "Year                               int32\n",
       "TextLength                         int64\n",
       "WordCount                          int64\n",
       "dtype: object"
      ]
     },
     "execution_count": 73,
     "metadata": {},
     "output_type": "execute_result"
    }
   ],
   "source": [
    "model_df.dtypes"
   ]
  },
  {
   "cell_type": "markdown",
   "id": "d6ed3e4c-5bf9-45f9-8dcd-a9f14ee0637a",
   "metadata": {},
   "source": [
    "I will be scaling the `Year` column so that the model does not misinterpret the years of the reviews as continuous numerical values. I will also be scaling the `TextLength` and `WordCount` columns."
   ]
  },
  {
   "cell_type": "code",
   "execution_count": 74,
   "id": "a370f387-329b-4b71-a4c8-d86004f73813",
   "metadata": {},
   "outputs": [
    {
     "data": {
      "text/plain": [
       "0         12\n",
       "1         13\n",
       "2          9\n",
       "3         12\n",
       "4         13\n",
       "          ..\n",
       "568449    12\n",
       "568450    13\n",
       "568451    13\n",
       "568452    13\n",
       "568453    13\n",
       "Name: ReviewAge, Length: 568146, dtype: int32"
      ]
     },
     "execution_count": 74,
     "metadata": {},
     "output_type": "execute_result"
    }
   ],
   "source": [
    "model_df['ReviewAge'] = model_df['Year'] - model_df['Year'].min()\n",
    "\n",
    "model_df['ReviewAge']"
   ]
  },
  {
   "cell_type": "code",
   "execution_count": 76,
   "id": "edd139bc-b686-4b13-b782-dca48e96fc5f",
   "metadata": {},
   "outputs": [
    {
     "data": {
      "text/plain": [
       "Index(['ProductId', 'UserId', 'HelpfulnessNumerator', 'HelpfulnessDenominator',\n",
       "       'Score', 'Time', 'Summary', 'Text', 'HelpfulnessRatio', 'Year',\n",
       "       'TextLength', 'WordCount', 'ReviewAge'],\n",
       "      dtype='object')"
      ]
     },
     "execution_count": 76,
     "metadata": {},
     "output_type": "execute_result"
    }
   ],
   "source": [
    "model_df.columns"
   ]
  },
  {
   "cell_type": "code",
   "execution_count": 83,
   "id": "eb9699eb-476b-48ea-9938-5f83f23b0894",
   "metadata": {},
   "outputs": [
    {
     "data": {
      "text/html": [
       "<div>\n",
       "<style scoped>\n",
       "    .dataframe tbody tr th:only-of-type {\n",
       "        vertical-align: middle;\n",
       "    }\n",
       "\n",
       "    .dataframe tbody tr th {\n",
       "        vertical-align: top;\n",
       "    }\n",
       "\n",
       "    .dataframe thead th {\n",
       "        text-align: right;\n",
       "    }\n",
       "</style>\n",
       "<table border=\"1\" class=\"dataframe\">\n",
       "  <thead>\n",
       "    <tr style=\"text-align: right;\">\n",
       "      <th></th>\n",
       "      <th>TextLength</th>\n",
       "      <th>WordCount</th>\n",
       "    </tr>\n",
       "  </thead>\n",
       "  <tbody>\n",
       "    <tr>\n",
       "      <th>0</th>\n",
       "      <td>-0.389069</td>\n",
       "      <td>-0.406231</td>\n",
       "    </tr>\n",
       "    <tr>\n",
       "      <th>1</th>\n",
       "      <td>-0.553237</td>\n",
       "      <td>-0.620532</td>\n",
       "    </tr>\n",
       "    <tr>\n",
       "      <th>2</th>\n",
       "      <td>0.164152</td>\n",
       "      <td>0.173641</td>\n",
       "    </tr>\n",
       "    <tr>\n",
       "      <th>3</th>\n",
       "      <td>-0.488020</td>\n",
       "      <td>-0.494473</td>\n",
       "    </tr>\n",
       "    <tr>\n",
       "      <th>4</th>\n",
       "      <td>-0.665680</td>\n",
       "      <td>-0.670955</td>\n",
       "    </tr>\n",
       "  </tbody>\n",
       "</table>\n",
       "</div>"
      ],
      "text/plain": [
       "   TextLength  WordCount\n",
       "0   -0.389069  -0.406231\n",
       "1   -0.553237  -0.620532\n",
       "2    0.164152   0.173641\n",
       "3   -0.488020  -0.494473\n",
       "4   -0.665680  -0.670955"
      ]
     },
     "execution_count": 83,
     "metadata": {},
     "output_type": "execute_result"
    }
   ],
   "source": [
    "# Scaling 'Text:ength' and 'WordCount'\n",
    "\n",
    "from sklearn.preprocessing import StandardScaler\n",
    "\n",
    "scaler = StandardScaler()\n",
    "model_df[['TextLength', 'WordCount']] = scaler.fit_transform(model_df[['TextLength', 'WordCount']])\n",
    "\n",
    "model_df[['TextLength', 'WordCount']].head()"
   ]
  },
  {
   "cell_type": "markdown",
   "id": "4eb97367-d4c8-47b6-9fca-d5a2283d4224",
   "metadata": {},
   "source": [
    "Created a `Sentiment` feature to simplify classification. A 1 to 5 score scale can be too nuanced and overlapping in tone, so grouping them into broader sentiment categories makes the data easier to interpret."
   ]
  },
  {
   "cell_type": "code",
   "execution_count": 84,
   "id": "c95bcffd-2b44-4f58-99c5-d4758e66c257",
   "metadata": {},
   "outputs": [],
   "source": [
    "def sentiment_group(score):\n",
    "    if score <= 2:\n",
    "        return 'negative'\n",
    "    elif score == 3:\n",
    "        return 'neutral'\n",
    "    else:\n",
    "        return 'positive'\n",
    "\n",
    "model_df['Sentiment'] = model_df['Score'].apply(sentiment_group)\n"
   ]
  },
  {
   "cell_type": "code",
   "execution_count": 88,
   "id": "ebb842c9-7877-44a8-8d12-42c9e8d30be8",
   "metadata": {},
   "outputs": [
    {
     "data": {
      "text/plain": [
       "Sentiment\n",
       "positive    443563\n",
       "negative     81971\n",
       "neutral      42612\n",
       "Name: count, dtype: int64"
      ]
     },
     "execution_count": 88,
     "metadata": {},
     "output_type": "execute_result"
    }
   ],
   "source": [
    "model_df['Sentiment'].value_counts()"
   ]
  },
  {
   "cell_type": "code",
   "execution_count": 89,
   "id": "f003f5dd-282a-4593-bc51-6600f13a3321",
   "metadata": {},
   "outputs": [
    {
     "data": {
      "text/html": [
       "<div>\n",
       "<style scoped>\n",
       "    .dataframe tbody tr th:only-of-type {\n",
       "        vertical-align: middle;\n",
       "    }\n",
       "\n",
       "    .dataframe tbody tr th {\n",
       "        vertical-align: top;\n",
       "    }\n",
       "\n",
       "    .dataframe thead th {\n",
       "        text-align: right;\n",
       "    }\n",
       "</style>\n",
       "<table border=\"1\" class=\"dataframe\">\n",
       "  <thead>\n",
       "    <tr style=\"text-align: right;\">\n",
       "      <th></th>\n",
       "      <th>ProductId</th>\n",
       "      <th>UserId</th>\n",
       "      <th>HelpfulnessNumerator</th>\n",
       "      <th>HelpfulnessDenominator</th>\n",
       "      <th>Score</th>\n",
       "      <th>Time</th>\n",
       "      <th>Summary</th>\n",
       "      <th>Text</th>\n",
       "      <th>HelpfulnessRatio</th>\n",
       "      <th>Year</th>\n",
       "      <th>TextLength</th>\n",
       "      <th>WordCount</th>\n",
       "      <th>ReviewAge</th>\n",
       "      <th>Sentiment</th>\n",
       "    </tr>\n",
       "  </thead>\n",
       "  <tbody>\n",
       "    <tr>\n",
       "      <th>0</th>\n",
       "      <td>B001E4KFG0</td>\n",
       "      <td>A3SGXH7AUHU8GW</td>\n",
       "      <td>1</td>\n",
       "      <td>1</td>\n",
       "      <td>5</td>\n",
       "      <td>2011-04-27</td>\n",
       "      <td>Good Quality Dog Food</td>\n",
       "      <td>I have bought several of the Vitality canned d...</td>\n",
       "      <td>1.0</td>\n",
       "      <td>2011</td>\n",
       "      <td>-0.389069</td>\n",
       "      <td>-0.406231</td>\n",
       "      <td>12</td>\n",
       "      <td>positive</td>\n",
       "    </tr>\n",
       "    <tr>\n",
       "      <th>1</th>\n",
       "      <td>B00813GRG4</td>\n",
       "      <td>A1D87F6ZCVE5NK</td>\n",
       "      <td>0</td>\n",
       "      <td>0</td>\n",
       "      <td>1</td>\n",
       "      <td>2012-09-07</td>\n",
       "      <td>Not as Advertised</td>\n",
       "      <td>Product arrived labeled as Jumbo Salted Peanut...</td>\n",
       "      <td>0.0</td>\n",
       "      <td>2012</td>\n",
       "      <td>-0.553237</td>\n",
       "      <td>-0.620532</td>\n",
       "      <td>13</td>\n",
       "      <td>negative</td>\n",
       "    </tr>\n",
       "    <tr>\n",
       "      <th>2</th>\n",
       "      <td>B000LQOCH0</td>\n",
       "      <td>ABXLMWJIXXAIN</td>\n",
       "      <td>1</td>\n",
       "      <td>1</td>\n",
       "      <td>4</td>\n",
       "      <td>2008-08-18</td>\n",
       "      <td>\"Delight\" says it all</td>\n",
       "      <td>This is a confection that has been around a fe...</td>\n",
       "      <td>1.0</td>\n",
       "      <td>2008</td>\n",
       "      <td>0.164152</td>\n",
       "      <td>0.173641</td>\n",
       "      <td>9</td>\n",
       "      <td>positive</td>\n",
       "    </tr>\n",
       "    <tr>\n",
       "      <th>3</th>\n",
       "      <td>B000UA0QIQ</td>\n",
       "      <td>A395BORC6FGVXV</td>\n",
       "      <td>3</td>\n",
       "      <td>3</td>\n",
       "      <td>2</td>\n",
       "      <td>2011-06-13</td>\n",
       "      <td>Cough Medicine</td>\n",
       "      <td>If you are looking for the secret ingredient i...</td>\n",
       "      <td>1.0</td>\n",
       "      <td>2011</td>\n",
       "      <td>-0.488020</td>\n",
       "      <td>-0.494473</td>\n",
       "      <td>12</td>\n",
       "      <td>negative</td>\n",
       "    </tr>\n",
       "    <tr>\n",
       "      <th>4</th>\n",
       "      <td>B006K2ZZ7K</td>\n",
       "      <td>A1UQRSCLF8GW1T</td>\n",
       "      <td>0</td>\n",
       "      <td>0</td>\n",
       "      <td>5</td>\n",
       "      <td>2012-10-21</td>\n",
       "      <td>Great taffy</td>\n",
       "      <td>Great taffy at a great price.  There was a wid...</td>\n",
       "      <td>0.0</td>\n",
       "      <td>2012</td>\n",
       "      <td>-0.665680</td>\n",
       "      <td>-0.670955</td>\n",
       "      <td>13</td>\n",
       "      <td>positive</td>\n",
       "    </tr>\n",
       "  </tbody>\n",
       "</table>\n",
       "</div>"
      ],
      "text/plain": [
       "    ProductId          UserId  HelpfulnessNumerator  HelpfulnessDenominator  \\\n",
       "0  B001E4KFG0  A3SGXH7AUHU8GW                     1                       1   \n",
       "1  B00813GRG4  A1D87F6ZCVE5NK                     0                       0   \n",
       "2  B000LQOCH0   ABXLMWJIXXAIN                     1                       1   \n",
       "3  B000UA0QIQ  A395BORC6FGVXV                     3                       3   \n",
       "4  B006K2ZZ7K  A1UQRSCLF8GW1T                     0                       0   \n",
       "\n",
       "   Score       Time                Summary  \\\n",
       "0      5 2011-04-27  Good Quality Dog Food   \n",
       "1      1 2012-09-07      Not as Advertised   \n",
       "2      4 2008-08-18  \"Delight\" says it all   \n",
       "3      2 2011-06-13         Cough Medicine   \n",
       "4      5 2012-10-21            Great taffy   \n",
       "\n",
       "                                                Text  HelpfulnessRatio  Year  \\\n",
       "0  I have bought several of the Vitality canned d...               1.0  2011   \n",
       "1  Product arrived labeled as Jumbo Salted Peanut...               0.0  2012   \n",
       "2  This is a confection that has been around a fe...               1.0  2008   \n",
       "3  If you are looking for the secret ingredient i...               1.0  2011   \n",
       "4  Great taffy at a great price.  There was a wid...               0.0  2012   \n",
       "\n",
       "   TextLength  WordCount  ReviewAge Sentiment  \n",
       "0   -0.389069  -0.406231         12  positive  \n",
       "1   -0.553237  -0.620532         13  negative  \n",
       "2    0.164152   0.173641          9  positive  \n",
       "3   -0.488020  -0.494473         12  negative  \n",
       "4   -0.665680  -0.670955         13  positive  "
      ]
     },
     "execution_count": 89,
     "metadata": {},
     "output_type": "execute_result"
    }
   ],
   "source": [
    "model_df.head()"
   ]
  },
  {
   "cell_type": "code",
   "execution_count": 90,
   "id": "aae641ed-4f91-4bd0-a4a7-871c0550f7ba",
   "metadata": {},
   "outputs": [
    {
     "data": {
      "text/plain": [
       "{'negative': 0, 'neutral': 1, 'positive': 2}"
      ]
     },
     "execution_count": 90,
     "metadata": {},
     "output_type": "execute_result"
    }
   ],
   "source": [
    "from sklearn.preprocessing import LabelEncoder\n",
    "\n",
    "le = LabelEncoder()\n",
    "model_df['Sentiment'] = le.fit_transform(model_df['Sentiment'])\n",
    "\n",
    "dict(zip(le.classes_, le.transform(le.classes_)))"
   ]
  },
  {
   "cell_type": "code",
   "execution_count": 91,
   "id": "7c2eef72-713a-4dae-a7e3-0d1e351eac3d",
   "metadata": {},
   "outputs": [
    {
     "data": {
      "text/plain": [
       "Index(['HelpfulnessNumerator', 'HelpfulnessDenominator', 'Score', 'Time',\n",
       "       'Summary', 'Text', 'HelpfulnessRatio', 'TextLength', 'WordCount',\n",
       "       'ReviewAge', 'Sentiment'],\n",
       "      dtype='object')"
      ]
     },
     "execution_count": 91,
     "metadata": {},
     "output_type": "execute_result"
    }
   ],
   "source": [
    "# Dropping unnecessary columns. The Year column is now obsolete after creating a new, scaled column.\n",
    "\n",
    "model_df.drop(['ProductId', 'UserId', 'Year'], axis=1, inplace=True)\n",
    "\n",
    "model_df.columns"
   ]
  },
  {
   "cell_type": "code",
   "execution_count": 92,
   "id": "97b5c650-fef6-4293-b2e2-08bb896c6055",
   "metadata": {},
   "outputs": [
    {
     "data": {
      "text/plain": [
       "Index(['HelpfulnessNumerator', 'HelpfulnessDenominator', 'Score', 'Summary',\n",
       "       'Text', 'HelpfulnessRatio', 'TextLength', 'WordCount', 'ReviewAge',\n",
       "       'Sentiment'],\n",
       "      dtype='object')"
      ]
     },
     "execution_count": 92,
     "metadata": {},
     "output_type": "execute_result"
    }
   ],
   "source": [
    "# Dropping the 'Time' column as well, as it also serves little purpose\n",
    "\n",
    "model_df.drop(['Time'], axis = 1, inplace = True)\n",
    "\n",
    "model_df.columns"
   ]
  },
  {
   "cell_type": "markdown",
   "id": "bed3a932-0948-4187-aedd-2fa42a3b9359",
   "metadata": {},
   "source": [
    "With that, the dataset should be ready for training and testing."
   ]
  },
  {
   "cell_type": "markdown",
   "id": "079b7e93-4fa8-4131-a191-92f54427346f",
   "metadata": {},
   "source": [
    "-----------------------"
   ]
  },
  {
   "cell_type": "markdown",
   "id": "dc1df4f5-0613-4bd2-9ba0-f3dc97567a04",
   "metadata": {},
   "source": [
    "## Modeling Part 1"
   ]
  },
  {
   "cell_type": "markdown",
   "id": "3aefe576-17e0-4a69-a5d2-961dcf9e563f",
   "metadata": {},
   "source": [
    " I will be starting with only the text of the dataset to gather an idea of baseline performance"
   ]
  },
  {
   "cell_type": "code",
   "execution_count": 95,
   "id": "3d55d2e9-28fc-45ad-ad69-6742a1c689a8",
   "metadata": {},
   "outputs": [
    {
     "name": "stdout",
     "output_type": "stream",
     "text": [
      "Training samples: 454516\n",
      "Testing samples: 113630\n"
     ]
    }
   ],
   "source": [
    "# Train/Test split.\n",
    "\n",
    "from sklearn.model_selection import train_test_split\n",
    "\n",
    "X = model_df['Text']\n",
    "y = model_df['Sentiment']\n",
    "\n",
    "X_train, X_test, y_train, y_test = train_test_split(\n",
    "    X, y,\n",
    "    test_size=0.2,\n",
    "    random_state=42,\n",
    "    stratify=y\n",
    ")\n",
    "\n",
    "print(\"Training samples:\", X_train.shape[0])\n",
    "print(\"Testing samples:\", X_test.shape[0])\n"
   ]
  },
  {
   "cell_type": "code",
   "execution_count": 96,
   "id": "956ba649-f5e0-4538-90b4-61d1e58a0bb0",
   "metadata": {},
   "outputs": [
    {
     "name": "stdout",
     "output_type": "stream",
     "text": [
      "TF-IDF shape (train): (454516, 5000)\n",
      "TF-IDF shape (test): (113630, 5000)\n"
     ]
    }
   ],
   "source": [
    "# TF-IDF Vectorization\n",
    "# Converting the text data into numerical data so the model can interpret it\n",
    "\n",
    "from sklearn.feature_extraction.text import TfidfVectorizer\n",
    "\n",
    "tfidf = TfidfVectorizer(\n",
    "    stop_words='english',\n",
    "    max_features=5000\n",
    ")\n",
    "\n",
    "X_train_tfidf = tfidf.fit_transform(X_train)\n",
    "X_test_tfidf = tfidf.transform(X_test)\n",
    "\n",
    "print(\"TF-IDF shape (train):\", X_train_tfidf.shape)\n",
    "print(\"TF-IDF shape (test):\", X_test_tfidf.shape)\n"
   ]
  },
  {
   "cell_type": "code",
   "execution_count": 98,
   "id": "0ff703d4-3dd4-49c4-a6af-58dc15533e6d",
   "metadata": {},
   "outputs": [
    {
     "name": "stdout",
     "output_type": "stream",
     "text": [
      "Accuracy: 0.8660388981782979\n",
      "\n",
      "Classification Report:\n",
      "               precision    recall  f1-score   support\n",
      "\n",
      "           0       0.74      0.67      0.70     16394\n",
      "           1       0.52      0.17      0.26      8523\n",
      "           2       0.90      0.97      0.93     88713\n",
      "\n",
      "    accuracy                           0.87    113630\n",
      "   macro avg       0.72      0.60      0.63    113630\n",
      "weighted avg       0.84      0.87      0.85    113630\n",
      "\n",
      "\n",
      "Confusion Matrix:\n",
      " [[11024   592  4778]\n",
      " [ 1868  1452  5203]\n",
      " [ 2009   772 85932]]\n"
     ]
    }
   ],
   "source": [
    "# Beginning Modeling. Starting with a Logistic Regression Model.\n",
    "\n",
    "from sklearn.linear_model import LogisticRegression\n",
    "from sklearn.metrics import accuracy_score, classification_report, confusion_matrix\n",
    "\n",
    "log_reg = LogisticRegression(max_iter=1000, random_state=42)\n",
    "log_reg.fit(X_train_tfidf, y_train)\n",
    "\n",
    "y_pred = log_reg.predict(X_test_tfidf)\n",
    "\n",
    "print(\"Accuracy:\", accuracy_score(y_test, y_pred))\n",
    "print(\"\\nClassification Report:\\n\", classification_report(y_test, y_pred))\n",
    "print(\"\\nConfusion Matrix:\\n\", confusion_matrix(y_test, y_pred))"
   ]
  },
  {
   "cell_type": "markdown",
   "id": "bd422792-0d72-4530-bcc1-d47032d1cd4b",
   "metadata": {},
   "source": [
    "The Logistic Regression model was very effective in capturing the `positive` reviews (scores of 4 or more), with a precision of 90% and a recall of 97%; near perfect. The same model did an adequate job at capturing the `negative` reviews, being able to predict 67% of all `negative` reviews with a 74% precision. However, it failed to capture most of the `neutral` reviews (17%). Even on rare occasions that it did, the accuracy of its predictions (52%) was only slightly better than 50%. One reason for this could be that the `neutral` category encompasses comparatively less data than both `negative` and `positive`, with only 42,612 data points. Another reason could be the ambiguous and variable nature of `neutral` reviews. This would make it hard for TF-IDF vectorization to find prominent patterns within the dataset. Regardless, further tweaking may be necessary."
   ]
  },
  {
   "cell_type": "code",
   "execution_count": 102,
   "id": "5765f76d-1103-473d-9515-24b2e3bec51a",
   "metadata": {},
   "outputs": [
    {
     "name": "stdout",
     "output_type": "stream",
     "text": [
      "Accuracy: 0.8163513156736777\n",
      "\n",
      "Classification Report:\n",
      "               precision    recall  f1-score   support\n",
      "\n",
      "           0       0.83      0.27      0.41     16394\n",
      "           1       0.56      0.00      0.00      8523\n",
      "           2       0.82      0.99      0.90     88713\n",
      "\n",
      "    accuracy                           0.82    113630\n",
      "   macro avg       0.74      0.42      0.44    113630\n",
      "weighted avg       0.80      0.82      0.76    113630\n",
      "\n",
      "\n",
      "Confusion Matrix:\n",
      " [[ 4502     7 11885]\n",
      " [  454    14  8055]\n",
      " [  463     4 88246]]\n"
     ]
    }
   ],
   "source": [
    "# Now training the Naive Bayes model which a probabilistic approach to text classification.\n",
    "\n",
    "from sklearn.naive_bayes import MultinomialNB\n",
    "from sklearn.metrics import accuracy_score, classification_report, confusion_matrix\n",
    "\n",
    "nb = MultinomialNB()\n",
    "nb.fit(X_train_tfidf, y_train)\n",
    "\n",
    "y_pred_nb = nb.predict(X_test_tfidf)\n",
    "\n",
    "print(\"Accuracy:\", accuracy_score(y_test, y_pred_nb))\n",
    "print(\"\\nClassification Report:\\n\", classification_report(y_test, y_pred_nb))\n",
    "print(\"\\nConfusion Matrix:\\n\", confusion_matrix(y_test, y_pred_nb))\n"
   ]
  },
  {
   "cell_type": "markdown",
   "id": "1dc311c4-ae86-4148-836a-b0ce49f67c93",
   "metadata": {},
   "source": [
    "The Naive Bayes model performed at an accuracy of approximately 82%; however, it was very unbalanced in its predictions. The vast majority of its predictions were `positive` due to the probabilistic nature of the model, which meant that barely any true `negative` reviews were caught (negative review recall was 27% with an 83% precision). Additionally, next to no `neutral` reviews were caught, with an abysmal recall of 0% (only 14 were correctly identified). Even among the small number of `neutral` predictions, only slightly more than half were accurate. The model's inclination toward `positive` predictions was the primary reason for the 99% recall of all `positive` reviews (though only an 82% precision). This model may not be suited for datasets where one classification value heavily outweighs the others."
   ]
  },
  {
   "cell_type": "code",
   "execution_count": 103,
   "id": "0703b0dc-a519-4d57-b320-949498c13f37",
   "metadata": {},
   "outputs": [
    {
     "name": "stderr",
     "output_type": "stream",
     "text": [
      "C:\\Users\\max dore\\AppData\\Local\\Packages\\PythonSoftwareFoundation.Python.3.11_qbz5n2kfra8p0\\LocalCache\\local-packages\\Python311\\site-packages\\sklearn\\svm\\_classes.py:31: FutureWarning: The default value of `dual` will change from `True` to `'auto'` in 1.5. Set the value of `dual` explicitly to suppress the warning.\n",
      "  warnings.warn(\n"
     ]
    },
    {
     "name": "stdout",
     "output_type": "stream",
     "text": [
      "Accuracy: 0.8642083956701575\n",
      "\n",
      "Classification Report:\n",
      "               precision    recall  f1-score   support\n",
      "\n",
      "           0       0.73      0.68      0.70     16394\n",
      "           1       0.57      0.09      0.16      8523\n",
      "           2       0.89      0.97      0.93     88713\n",
      "\n",
      "    accuracy                           0.86    113630\n",
      "   macro avg       0.73      0.58      0.60    113630\n",
      "weighted avg       0.84      0.86      0.84    113630\n",
      "\n",
      "\n",
      "Confusion Matrix:\n",
      " [[11090   248  5056]\n",
      " [ 2094   794  5635]\n",
      " [ 2056   341 86316]]\n"
     ]
    }
   ],
   "source": [
    "# Now using Linear SVM model, which tends to perform very well with high-dimensional data such as TF-IDF\n",
    "\n",
    "from sklearn.svm import LinearSVC\n",
    "from sklearn.metrics import accuracy_score, classification_report, confusion_matrix\n",
    "\n",
    "svm = LinearSVC(random_state=42)\n",
    "svm.fit(X_train_tfidf, y_train)\n",
    "\n",
    "y_pred_svm = svm.predict(X_test_tfidf)\n",
    "\n",
    "print(\"Accuracy:\", accuracy_score(y_test, y_pred_svm))\n",
    "print(\"\\nClassification Report:\\n\", classification_report(y_test, y_pred_svm))\n",
    "print(\"\\nConfusion Matrix:\\n\", confusion_matrix(y_test, y_pred_svm))\n"
   ]
  },
  {
   "cell_type": "markdown",
   "id": "7dccefae-2756-4ffb-b275-57a57bd7c459",
   "metadata": {},
   "source": [
    "The Linear SVM model performed on par with Logistic Regression for the most part, boasting equal F1 scores for `negative` and `positive` review predictions (70% and 93%, respectively), with only a few minor differences in recall and precision. However, like the others, it struggled to capture the `neutral` reviews. Its recall (9%) was about half that of the Logistic model, and although LSVM was marginally more precise in these predictions (57%), it failed to capture as many cases. The imbalance in predicting `neutral` values persists."
   ]
  },
  {
   "cell_type": "markdown",
   "id": "03bc21ae-e680-4d14-be16-21fffcd79f67",
   "metadata": {},
   "source": [
    "Though the models performed satisfactorily overall, their predictive imbalance became evident when identifying `neutral` reviews. To address this, I will employ greater specificity in TF-IDF to capture more neutral phrasing which should encourage a deeper understanding of the `neutral` reviews when converting. Using this new information, I can then attempt more training using the baseline models."
   ]
  },
  {
   "cell_type": "code",
   "execution_count": 110,
   "id": "9df49a28-0343-4a6d-afae-b1306399414d",
   "metadata": {},
   "outputs": [],
   "source": [
    "# Employing TF-IDF with a potentially deeper understanding of neutral sentiments\n",
    "\n",
    "tfidf = TfidfVectorizer(\n",
    "    stop_words='english',\n",
    "    max_features=20000,\n",
    "    ngram_range=(1, 2),\n",
    "    sublinear_tf=True,\n",
    "    min_df=3,\n",
    "    max_df=0.9\n",
    ")\n"
   ]
  },
  {
   "cell_type": "code",
   "execution_count": 109,
   "id": "239d7cd3-de29-4bec-9db8-84adefbfd230",
   "metadata": {},
   "outputs": [
    {
     "name": "stdout",
     "output_type": "stream",
     "text": [
      "Accuracy: 0.8660388981782979\n",
      "\n",
      "Classification Report:\n",
      "               precision    recall  f1-score   support\n",
      "\n",
      "           0       0.74      0.67      0.70     16394\n",
      "           1       0.52      0.17      0.26      8523\n",
      "           2       0.90      0.97      0.93     88713\n",
      "\n",
      "    accuracy                           0.87    113630\n",
      "   macro avg       0.72      0.60      0.63    113630\n",
      "weighted avg       0.84      0.87      0.85    113630\n",
      "\n",
      "\n",
      "Confusion Matrix:\n",
      " [[11024   592  4778]\n",
      " [ 1868  1452  5203]\n",
      " [ 2009   772 85932]]\n"
     ]
    }
   ],
   "source": [
    "# Logistic Regression with the updated vectorization\n",
    "\n",
    "log_reg = LogisticRegression(max_iter=1000, random_state=42)\n",
    "log_reg.fit(X_train_tfidf, y_train)\n",
    "\n",
    "y_pred = log_reg.predict(X_test_tfidf)\n",
    "\n",
    "print(\"Accuracy:\", accuracy_score(y_test, y_pred))\n",
    "print(\"\\nClassification Report:\\n\", classification_report(y_test, y_pred))\n",
    "print(\"\\nConfusion Matrix:\\n\", confusion_matrix(y_test, y_pred))\n"
   ]
  },
  {
   "cell_type": "markdown",
   "id": "6c8d65bb-a8fe-4cc5-b7e4-2f3295430190",
   "metadata": {},
   "source": [
    "The results shown for Logistic Regression are completely identical to its earlier training without vectorization optimization. This may indicate that vectorization is not the problem. I will continue modeling with the other two alglorithms to further confirm the problem."
   ]
  },
  {
   "cell_type": "code",
   "execution_count": 112,
   "id": "643922ab-6eea-4137-a4cd-ff9c0dd59b62",
   "metadata": {},
   "outputs": [
    {
     "name": "stdout",
     "output_type": "stream",
     "text": [
      "Accuracy: 0.8163513156736777\n",
      "\n",
      "Classification Report:\n",
      "               precision    recall  f1-score   support\n",
      "\n",
      "           0       0.83      0.27      0.41     16394\n",
      "           1       0.56      0.00      0.00      8523\n",
      "           2       0.82      0.99      0.90     88713\n",
      "\n",
      "    accuracy                           0.82    113630\n",
      "   macro avg       0.74      0.42      0.44    113630\n",
      "weighted avg       0.80      0.82      0.76    113630\n",
      "\n",
      "\n",
      "Confusion Matrix:\n",
      " [[ 4502     7 11885]\n",
      " [  454    14  8055]\n",
      " [  463     4 88246]]\n"
     ]
    }
   ],
   "source": [
    "# Naive Bayes with the updated vectorization\n",
    "\n",
    "nb = MultinomialNB()\n",
    "nb.fit(X_train_tfidf, y_train)\n",
    "y_pred_nb = nb.predict(X_test_tfidf)\n",
    "\n",
    "print(\"Accuracy:\", accuracy_score(y_test, y_pred_nb))\n",
    "print(\"\\nClassification Report:\\n\", classification_report(y_test, y_pred_nb))\n",
    "print(\"\\nConfusion Matrix:\\n\", confusion_matrix(y_test, y_pred_nb))"
   ]
  },
  {
   "cell_type": "code",
   "execution_count": 113,
   "id": "cb9089d9-cac5-4f73-a4e5-77d4fa6403c3",
   "metadata": {},
   "outputs": [
    {
     "name": "stderr",
     "output_type": "stream",
     "text": [
      "C:\\Users\\max dore\\AppData\\Local\\Packages\\PythonSoftwareFoundation.Python.3.11_qbz5n2kfra8p0\\LocalCache\\local-packages\\Python311\\site-packages\\sklearn\\svm\\_classes.py:31: FutureWarning: The default value of `dual` will change from `True` to `'auto'` in 1.5. Set the value of `dual` explicitly to suppress the warning.\n",
      "  warnings.warn(\n"
     ]
    },
    {
     "name": "stdout",
     "output_type": "stream",
     "text": [
      "Accuracy: 0.8642083956701575\n",
      "\n",
      "Classification Report:\n",
      "               precision    recall  f1-score   support\n",
      "\n",
      "           0       0.73      0.68      0.70     16394\n",
      "           1       0.57      0.09      0.16      8523\n",
      "           2       0.89      0.97      0.93     88713\n",
      "\n",
      "    accuracy                           0.86    113630\n",
      "   macro avg       0.73      0.58      0.60    113630\n",
      "weighted avg       0.84      0.86      0.84    113630\n",
      "\n",
      "\n",
      "Confusion Matrix:\n",
      " [[11090   248  5056]\n",
      " [ 2094   794  5635]\n",
      " [ 2056   341 86316]]\n"
     ]
    }
   ],
   "source": [
    "# Linear SVM with the updated vectorization\n",
    "\n",
    "svm = LinearSVC(random_state=42)\n",
    "svm.fit(X_train_tfidf, y_train)\n",
    "y_pred_svm = svm.predict(X_test_tfidf)\n",
    "\n",
    "print(\"Accuracy:\", accuracy_score(y_test, y_pred_svm))\n",
    "print(\"\\nClassification Report:\\n\", classification_report(y_test, y_pred_svm))\n",
    "print(\"\\nConfusion Matrix:\\n\", confusion_matrix(y_test, y_pred_svm))\n"
   ]
  },
  {
   "cell_type": "markdown",
   "id": "49fae914-fb2a-4ff2-bb4c-e1994244dbad",
   "metadata": {},
   "source": [
    "The results were exactly the same across the other two model results as well. Balancing of the algorithms themselves is necessary. I will attempt to manipulate class weights instead."
   ]
  },
  {
   "cell_type": "code",
   "execution_count": 115,
   "id": "582eb53c-fcd0-4f08-aaa1-2c6cfa57dc51",
   "metadata": {},
   "outputs": [
    {
     "name": "stdout",
     "output_type": "stream",
     "text": [
      "Accuracy: 0.7776643492035554\n",
      "\n",
      "Classification Report:\n",
      "               precision    recall  f1-score   support\n",
      "\n",
      "           0       0.63      0.74      0.68     16394\n",
      "           1       0.25      0.63      0.36      8523\n",
      "           2       0.97      0.80      0.88     88713\n",
      "\n",
      "    accuracy                           0.78    113630\n",
      "   macro avg       0.62      0.72      0.64    113630\n",
      "weighted avg       0.86      0.78      0.81    113630\n",
      "\n",
      "\n",
      "Confusion Matrix:\n",
      " [[12081  3278  1035]\n",
      " [ 1853  5334  1336]\n",
      " [ 5369 12393 70951]]\n"
     ]
    }
   ],
   "source": [
    "# Logistic Regression with class weight manipulated\n",
    "\n",
    "log_reg_balanced = LogisticRegression(\n",
    "    max_iter=1000,\n",
    "    random_state=42,\n",
    "    class_weight='balanced'\n",
    ")\n",
    "\n",
    "log_reg_balanced.fit(X_train_tfidf, y_train)\n",
    "y_pred_balanced = log_reg_balanced.predict(X_test_tfidf)\n",
    "\n",
    "print(\"Accuracy:\", accuracy_score(y_test, y_pred_balanced))\n",
    "print(\"\\nClassification Report:\\n\", classification_report(y_test, y_pred_balanced))\n",
    "print(\"\\nConfusion Matrix:\\n\", confusion_matrix(y_test, y_pred_balanced))\n"
   ]
  },
  {
   "cell_type": "markdown",
   "id": "5a081626-824d-4022-ba32-f7ce4d58056f",
   "metadata": {},
   "source": [
    "The updated results show a significant increase in recall for neutral reviews (63%, nearly a fourfold jump from 17%). However, this was accompanied by more than a 50% drop in precision (from 52% to 25%). This aligns with the new class-weighted settings, which emphasize prediction for the underrepresented class. The model clearly prioritized capturing `neutral` reviews, which in turn reduced recall for `positive` reviews (though precision for positives rose to near-perfect levels). Interestingly, `negative` review recall also increased from 67% to 74%, albeit with a drop in precision. These results suggest that the low neutral recall in earlier models may stem from an underlying lack of substantial `neutral` review data in the dataset itself."
   ]
  },
  {
   "cell_type": "code",
   "execution_count": 116,
   "id": "048fd389-c0d0-42f7-a93a-c9eba4a36616",
   "metadata": {},
   "outputs": [
    {
     "name": "stdout",
     "output_type": "stream",
     "text": [
      "Accuracy: 0.7249141951949309\n",
      "\n",
      "Classification Report:\n",
      "               precision    recall  f1-score   support\n",
      "\n",
      "           0       0.54      0.68      0.60     16394\n",
      "           1       0.21      0.58      0.31      8523\n",
      "           2       0.96      0.75      0.84     88713\n",
      "\n",
      "    accuracy                           0.72    113630\n",
      "   macro avg       0.57      0.67      0.58    113630\n",
      "weighted avg       0.84      0.72      0.77    113630\n",
      "\n",
      "\n",
      "Confusion Matrix:\n",
      " [[11127  3974  1293]\n",
      " [ 2095  4984  1444]\n",
      " [ 7257 15195 66261]]\n"
     ]
    }
   ],
   "source": [
    "# Naive Bayes with class weight manipulated (Naive Bayes doesn’t support class weight, so you must adjust each sample’s influence manually via sample_weight)\n",
    "\n",
    "sample_weights = compute_sample_weight(class_weight='balanced', y=y_train)\n",
    "\n",
    "nb_balanced = MultinomialNB()\n",
    "nb_balanced.fit(X_train_tfidf, y_train, sample_weight=sample_weights)\n",
    "y_pred_nb_balanced = nb_balanced.predict(X_test_tfidf)\n",
    "\n",
    "print(\"Accuracy:\", accuracy_score(y_test, y_pred_nb_balanced))\n",
    "print(\"\\nClassification Report:\\n\", classification_report(y_test, y_pred_nb_balanced))\n",
    "print(\"\\nConfusion Matrix:\\n\", confusion_matrix(y_test, y_pred_nb_balanced))\n"
   ]
  },
  {
   "cell_type": "markdown",
   "id": "657e9556-7993-4001-9aff-6a7ce6f1b464",
   "metadata": {},
   "source": [
    "The Naive Bayes model shows similar trends to the Logistic Regression model when compared to its previous performance. `Neutral` review recall increased significantly, while precision dropped by over 50%. `Positive` reviews followed a similar pattern, with precision rising but recall falling sharply. `Negative` review predictions showed the inverse trend, with precision decreasing and recall increasing."
   ]
  },
  {
   "cell_type": "code",
   "execution_count": 117,
   "id": "9a729a92-ff5c-49b7-89ee-f1049da85402",
   "metadata": {},
   "outputs": [
    {
     "name": "stderr",
     "output_type": "stream",
     "text": [
      "C:\\Users\\max dore\\AppData\\Local\\Packages\\PythonSoftwareFoundation.Python.3.11_qbz5n2kfra8p0\\LocalCache\\local-packages\\Python311\\site-packages\\sklearn\\svm\\_classes.py:31: FutureWarning: The default value of `dual` will change from `True` to `'auto'` in 1.5. Set the value of `dual` explicitly to suppress the warning.\n",
      "  warnings.warn(\n"
     ]
    },
    {
     "name": "stdout",
     "output_type": "stream",
     "text": [
      "Accuracy: 0.8468978262782716\n",
      "\n",
      "Classification Report:\n",
      "               precision    recall  f1-score   support\n",
      "\n",
      "           0       0.67      0.74      0.70     16394\n",
      "           1       0.36      0.40      0.38      8523\n",
      "           2       0.94      0.91      0.92     88713\n",
      "\n",
      "    accuracy                           0.85    113630\n",
      "   macro avg       0.66      0.68      0.67    113630\n",
      "weighted avg       0.86      0.85      0.85    113630\n",
      "\n",
      "\n",
      "Confusion Matrix:\n",
      " [[12174  1805  2415]\n",
      " [ 2183  3411  2929]\n",
      " [ 3877  4188 80648]]\n"
     ]
    }
   ],
   "source": [
    "# LinearSVM with class weight manipulated\n",
    "\n",
    "svm_balanced = LinearSVC(\n",
    "    class_weight='balanced',\n",
    "    random_state=42\n",
    ")\n",
    "\n",
    "svm_balanced.fit(X_train_tfidf, y_train)\n",
    "y_pred_svm_balanced = svm_balanced.predict(X_test_tfidf)\n",
    "\n",
    "print(\"Accuracy:\", accuracy_score(y_test, y_pred_svm_balanced))\n",
    "print(\"\\nClassification Report:\\n\", classification_report(y_test, y_pred_svm_balanced))\n",
    "print(\"\\nConfusion Matrix:\\n\", confusion_matrix(y_test, y_pred_svm_balanced))\n"
   ]
  },
  {
   "cell_type": "markdown",
   "id": "35135695-7472-4055-970e-b42e1ab30b52",
   "metadata": {},
   "source": [
    "The Linear SVM model handled the dataset similarly after adjustments. There was a notable increase in recall for `neutral` reviews accompanied by a noticeable decrease in precision. The other class predictions followed the same trends, with an increase in precision and a decrease in recall for `positive` reviews, and a decrease in precision alongside an increase in recall for `negative` reviews. However, unlike the other two models, LSVM’s results did not differ as markedly from its baseline, though there were still noticeable changes."
   ]
  },
  {
   "cell_type": "markdown",
   "id": "4e6653c8-0dc7-4b85-aece-239390dd5119",
   "metadata": {},
   "source": [
    "Overall, Logistic Regression was the best-performing model at baseline, showing better recall for `neutral` reviews and slightly higher accuracy than LSVM, the second-best performer. However, after adjustments, LSVM appeared to perform slightly better, as Logistic Regression’s overall metrics suffered from overcorrecting in its attempt to capture `neutral` reviews. LSVM, on the other hand, did not experience as much polarization, maintaining relatively stable metrics while still improving its neutral recall. That said, under both conditions, Logistic Regression remained more effective at identifying `neutral` reviews. In practice, either model could be used interchangeably depending on the specific goals and priorities of the task.\n",
    "\n",
    "\n",
    "Next, I will train the models on the feature columns of the dataset rather than the text data in order to compare and contrast the performances under both conditions."
   ]
  },
  {
   "cell_type": "markdown",
   "id": "41e83023-b3ac-4d18-a596-69d11890a417",
   "metadata": {},
   "source": [
    "---------------------\n"
   ]
  },
  {
   "cell_type": "markdown",
   "id": "26f80415-f0f3-48ea-9d06-afe19f7e1817",
   "metadata": {},
   "source": [
    "## Modeling Part 2"
   ]
  },
  {
   "cell_type": "code",
   "execution_count": 120,
   "id": "4bd0b0cf-412d-4333-b7d8-1cf206505b57",
   "metadata": {},
   "outputs": [],
   "source": [
    "# First I will drop the 'Text' and 'Summary' columns as they serve little purpose in predicting when using features\n",
    "\n",
    "X = model_df[['HelpfulnessNumerator', 'HelpfulnessDenominator', \n",
    "              'HelpfulnessRatio', 'TextLength', 'WordCount', 'ReviewAge']]\n",
    "y = model_df['Sentiment']\n",
    "\n",
    "X_train, X_test, y_train, y_test = train_test_split(\n",
    "    X, y, test_size=0.2, random_state=42, stratify=y\n",
    ")\n",
    "\n",
    "scaler = StandardScaler()\n",
    "\n",
    "X_train_scaled = scaler.fit_transform(X_train)\n",
    "X_test_scaled = scaler.transform(X_test)"
   ]
  },
  {
   "cell_type": "code",
   "execution_count": 121,
   "id": "0d2b39be-c70c-4067-8bf4-710e0e8a2ca6",
   "metadata": {},
   "outputs": [
    {
     "name": "stdout",
     "output_type": "stream",
     "text": [
      "Accuracy: 0.8006160344979318\n",
      "\n",
      "Classification Report:\n",
      "               precision    recall  f1-score   support\n",
      "\n",
      "           0       0.69      0.19      0.30     16394\n",
      "           1       0.03      0.00      0.00      8523\n",
      "           2       0.81      0.99      0.89     88713\n",
      "\n",
      "    accuracy                           0.80    113630\n",
      "   macro avg       0.51      0.39      0.40    113630\n",
      "weighted avg       0.73      0.80      0.74    113630\n",
      "\n",
      "\n",
      "Confusion Matrix:\n",
      " [[ 3127    20 13247]\n",
      " [  550     1  7972]\n",
      " [  857    10 87846]]\n"
     ]
    }
   ],
   "source": [
    "# Logistic Regression \n",
    "\n",
    "lr = LogisticRegression(max_iter=1000, random_state=42)\n",
    "lr.fit(X_train_scaled, y_train)\n",
    "y_pred_lr = lr.predict(X_test_scaled)\n",
    "\n",
    "print(\"Accuracy:\", accuracy_score(y_test, y_pred_lr))\n",
    "print(\"\\nClassification Report:\\n\", classification_report(y_test, y_pred_lr))\n",
    "print(\"\\nConfusion Matrix:\\n\", confusion_matrix(y_test, y_pred_lr))"
   ]
  },
  {
   "cell_type": "markdown",
   "id": "af3c01db-26e2-4adb-a75d-b0692390ecc1",
   "metadata": {},
   "source": [
    "As we can see, performance declines heavily when relying on metadata to predict sentiment. Even with an accuracy of 80% (most likely negated by class imbalance), the metrics paint a bleak picture. While there is a near-perfect recall for `positive` reviews, this comes at the cost of extreme polarization, with nearly 0% recall for all `neutral` reviews, as the algorithm identified only one correctly (precision approximately 3%). `Negative` review recall also suffered a drastic drop, falling nearly 50 percentage points to just 19%. Overall, the model’s performance collapsed across nearly all metrics, demonstrating that sentiment classification is far more effective when utilizing text vectorization rather than metadata alone."
   ]
  },
  {
   "cell_type": "code",
   "execution_count": 122,
   "id": "74226a5b-8c29-4b17-90f2-36f629836c25",
   "metadata": {},
   "outputs": [
    {
     "name": "stdout",
     "output_type": "stream",
     "text": [
      "Accuracy: 0.7624130951333274\n",
      "\n",
      "Classification Report:\n",
      "               precision    recall  f1-score   support\n",
      "\n",
      "           0       0.30      0.03      0.06     16394\n",
      "           1       0.12      0.04      0.06      8523\n",
      "           2       0.78      0.97      0.87     88713\n",
      "\n",
      "    accuracy                           0.76    113630\n",
      "   macro avg       0.40      0.35      0.33    113630\n",
      "weighted avg       0.67      0.76      0.69    113630\n",
      "\n",
      "\n",
      "Confusion Matrix:\n",
      " [[  525   421 15448]\n",
      " [  144   321  8058]\n",
      " [ 1074  1852 85787]]\n"
     ]
    }
   ],
   "source": [
    "# Naive Bayes (this is a different variant of the NB model, as the last variant was for text features rather than numeric)\n",
    "\n",
    "from sklearn.naive_bayes import GaussianNB\n",
    "\n",
    "nb = GaussianNB()\n",
    "nb.fit(X_train_scaled, y_train)\n",
    "\n",
    "y_pred_nb = nb.predict(X_test_scaled)\n",
    "\n",
    "print(\"Accuracy:\", accuracy_score(y_test, y_pred_nb))\n",
    "print(\"\\nClassification Report:\\n\", classification_report(y_test, y_pred_nb))\n",
    "print(\"\\nConfusion Matrix:\\n\", confusion_matrix(y_test, y_pred_nb))"
   ]
  },
  {
   "cell_type": "markdown",
   "id": "d1d8673a-5709-42eb-b174-cd48dafffb80",
   "metadata": {},
   "source": [
    "Naive Bayes (GaussianNB) followed the same pattern as Logistic Regression, seeing a notable decrease across all metrics other than `positive` review recall, further proving that model training and prediction benefit more from text data than metadata. "
   ]
  },
  {
   "cell_type": "code",
   "execution_count": 123,
   "id": "0808d051-b8ed-4c51-8ed4-b285c24be2f4",
   "metadata": {},
   "outputs": [
    {
     "name": "stderr",
     "output_type": "stream",
     "text": [
      "C:\\Users\\max dore\\AppData\\Local\\Packages\\PythonSoftwareFoundation.Python.3.11_qbz5n2kfra8p0\\LocalCache\\local-packages\\Python311\\site-packages\\sklearn\\svm\\_classes.py:31: FutureWarning: The default value of `dual` will change from `True` to `'auto'` in 1.5. Set the value of `dual` explicitly to suppress the warning.\n",
      "  warnings.warn(\n",
      "C:\\Users\\max dore\\AppData\\Local\\Packages\\PythonSoftwareFoundation.Python.3.11_qbz5n2kfra8p0\\LocalCache\\local-packages\\Python311\\site-packages\\sklearn\\svm\\_base.py:1237: ConvergenceWarning: Liblinear failed to converge, increase the number of iterations.\n",
      "  warnings.warn(\n"
     ]
    },
    {
     "name": "stdout",
     "output_type": "stream",
     "text": [
      "Accuracy: 0.7956437560503388\n",
      "\n",
      "Classification Report:\n",
      "               precision    recall  f1-score   support\n",
      "\n",
      "           0       0.71      0.13      0.23     16394\n",
      "           1       0.00      0.00      0.00      8523\n",
      "           2       0.80      0.99      0.89     88713\n",
      "\n",
      "    accuracy                           0.80    113630\n",
      "   macro avg       0.50      0.38      0.37    113630\n",
      "weighted avg       0.73      0.80      0.72    113630\n",
      "\n",
      "\n",
      "Confusion Matrix:\n",
      " [[ 2199     0 14195]\n",
      " [  382     0  8141]\n",
      " [  502     1 88210]]\n"
     ]
    }
   ],
   "source": [
    "# Linear SVM\n",
    "\n",
    "lsvm = LinearSVC(random_state=42)\n",
    "lsvm.fit(X_train_scaled, y_train)\n",
    "y_pred_lsvm = lsvm.predict(X_test_scaled)\n",
    "\n",
    "print(\"Accuracy:\", accuracy_score(y_test, y_pred_lsvm))\n",
    "print(\"\\nClassification Report:\\n\", classification_report(y_test, y_pred_lsvm))\n",
    "print(\"\\nConfusion Matrix:\\n\", confusion_matrix(y_test, y_pred_lsvm))"
   ]
  },
  {
   "cell_type": "markdown",
   "id": "365fa848-5d56-4e9b-a6ea-6995f28d482f",
   "metadata": {},
   "source": [
    "Linear SVM's results confirm what was already suspected based on the other two models' performances. With its extreme decrease in all metrics (other than `positive` review recall), it can be gathered that the metadata is not as helpful when trying to predict sentiment."
   ]
  },
  {
   "cell_type": "markdown",
   "id": "3d0ab881-eaaf-410e-8d27-48fc79fefbed",
   "metadata": {},
   "source": [
    "Overall, the metadata proved to be significantly more limited in value compared to text vectorization. Most performance metrics showed a sharp decline when the models were trained on this data. While these metrics could likely be improved slightly through tuning or class weighting, any gains in efficiency would be relatively negligible."
   ]
  },
  {
   "cell_type": "markdown",
   "id": "86276e38-5e21-4924-8522-6df9fb058b8e",
   "metadata": {},
   "source": [
    "--------------------------------"
   ]
  },
  {
   "cell_type": "markdown",
   "id": "cf337cc9-5ece-45c5-93b9-272129bc1cd7",
   "metadata": {},
   "source": [
    "## Conclusion"
   ]
  },
  {
   "cell_type": "markdown",
   "id": "65383e03-255e-48ff-9c1c-c3602a653c9f",
   "metadata": {},
   "source": [
    "The models I used in this project were trained on two types of data. In one trial, I trained the models using the text from substantive Amazon reviews. My goal was to train the model to determine the keywords that were generally associated with certain classifications of sentiment (`Negative`, `Neutral`, `Positive`). The second type of data was the metadata, or features, of the dataset. The objective with this data was to train the models to predict sentiment based on the columns in the dataset (`TextLength,` `WordCount`, `ReviewAge`, etc.).\n",
    "\n",
    "Results from both trials showed that the Amazon Reviews text data was far superior when it came to training and prediction. Very few `neutral` and `negative` reviews were captured when using the metadata. For a couple of models, the percentage of reviews captured was effectively 0%. The text data showed a significant improvement in overall performance, though only a marginal improvement in predicting `neutral` reviews. The model that captured the most `neutral` reviews, Logistic Regression, was still only able to capture about 17% of them with roughly 50% accuracy. After adjusting the models and encouraging more balanced predictions, that capture rate increased substantially for all models, though accuracy declined as a result.\n",
    "\n",
    "Overall, the best-performing models were Logistic Regression and LinearSVM. At baseline, Logistic Regression had the best performance. It performed the same as LinearSVM overall but achieved better `neutral` review capture rates with slightly lower precision (52% versus LSVM's 57%). After balancing, however, LinearSVM performed better than Logistic Regression overall, though Logistic Regression continued to capture more `neutral` reviews in its predictions even with lower accuracy. If the goal is to capture `neutral` reviews, Logistic Regression is better equipped for the task. If the goal is general performance, a balanced LSVM would be the best option.\n",
    "\n",
    "This project demonstrates two important concepts. The first is that text data for reviews is much more helpful for predicting customer sentiment. The second is the importance of developing methods that can capture `neutral` and `negative` reviews to ensure quality improvement. Most datasets with randomly selected data will be heavily dominated by `positive` reviews for multiple reasons. Gaining the ability to differentiate clearly between `negative` or `neutral` sentiment and positive sentiment can lead to more reliable systems for product enhancement."
   ]
  },
  {
   "cell_type": "code",
   "execution_count": null,
   "id": "53af84f6-a9a6-4201-9795-0ce0342615a8",
   "metadata": {},
   "outputs": [],
   "source": []
  }
 ],
 "metadata": {
  "kernelspec": {
   "display_name": "Python 3 (ipykernel)",
   "language": "python",
   "name": "python3"
  },
  "language_info": {
   "codemirror_mode": {
    "name": "ipython",
    "version": 3
   },
   "file_extension": ".py",
   "mimetype": "text/x-python",
   "name": "python",
   "nbconvert_exporter": "python",
   "pygments_lexer": "ipython3",
   "version": "3.11.9"
  }
 },
 "nbformat": 4,
 "nbformat_minor": 5
}
